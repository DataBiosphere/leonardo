{
 "cells": [
  {
   "cell_type": "markdown",
   "metadata": {},
   "source": [
    "# Adapted from Hail documentation here:\n",
    "### https://hail.is/docs/stable/tutorials/hail-overview.html"
   ]
  },
  {
   "cell_type": "code",
   "execution_count": 1,
   "metadata": {},
   "outputs": [
    {
     "name": "stderr",
     "output_type": "stream",
     "text": [
      "Running on Apache Spark version 2.0.2\n",
      "SparkUI available at http://10.240.0.30:4040\n",
      "Welcome to\n",
      "     __  __     <>__\n",
      "    / /_/ /__  __/ /\n",
      "   / __  / _ `/ / /\n",
      "  /_/ /_/\\_,_/_/_/   version 0.1-5c275cc\n"
     ]
    }
   ],
   "source": [
    "from hail import *\n",
    "hc = HailContext(sc)"
   ]
  },
  {
   "cell_type": "code",
   "execution_count": 2,
   "metadata": {},
   "outputs": [],
   "source": [
    "import numpy as np\n",
    "import pandas as pd\n",
    "import matplotlib.pyplot as plt\n",
    "import matplotlib.patches as mpatches\n",
    "from collections import Counter\n",
    "from math import log, isnan\n",
    "from pprint import pprint\n",
    "%matplotlib inline"
   ]
  },
  {
   "cell_type": "code",
   "execution_count": 3,
   "metadata": {},
   "outputs": [],
   "source": [
    "# optional\n",
    "import seaborn"
   ]
  },
  {
   "cell_type": "code",
   "execution_count": 4,
   "metadata": {},
   "outputs": [
    {
     "name": "stderr",
     "output_type": "stream",
     "text": [
      "Downloading data (~50M) from Google Storage...\n",
      "Download finished!\n",
      "Extracting...\n",
      "Done!\n"
     ]
    }
   ],
   "source": [
    "import os\n",
    "if os.path.isdir('data/1kg.vds') and os.path.isfile('data/1kg_annotations.txt'):\n",
    "    print('All files are present and accounted for!')\n",
    "else:\n",
    "    import sys\n",
    "    sys.stderr.write('Downloading data (~50M) from Google Storage...\\n')\n",
    "    import urllib\n",
    "    import tarfile\n",
    "    urllib.urlretrieve('https://storage.googleapis.com/hail-1kg/tutorial_data.tar',\n",
    "                       'tutorial_data.tar')\n",
    "    sys.stderr.write('Download finished!\\n')\n",
    "    sys.stderr.write('Extracting...\\n')\n",
    "    tarfile.open('tutorial_data.tar').extractall()\n",
    "    if not (os.path.isdir('data/1kg.vds') and os.path.isfile('data/1kg_annotations.txt')):\n",
    "        raise RuntimeError('Something went wrong!')\n",
    "    else:\n",
    "        sys.stderr.write('Done!\\n')"
   ]
  },
  {
   "cell_type": "code",
   "execution_count": 5,
   "metadata": {},
   "outputs": [
    {
     "name": "stdout",
     "output_type": "stream",
     "text": [
      "18/06/18 18:33:27 INFO gcs.GoogleHadoopFileSystemBase: GHFS version: 1.6.6-hadoop2\n",
      "18/06/18 18:33:29 INFO gcs.GoogleHadoopFileSystemBase: GHFS version: 1.6.6-hadoop2\n"
     ]
    }
   ],
   "source": [
    "! /usr/lib/hadoop/bin/hadoop fs -mkdir /data\n",
    "! /usr/lib/hadoop/bin/hadoop fs -put /home/jupyter-user/data/* /data/"
   ]
  },
  {
   "cell_type": "code",
   "execution_count": 6,
   "metadata": {},
   "outputs": [],
   "source": [
    "vds = hc.read('hdfs:///data/1kg.vds')"
   ]
  },
  {
   "cell_type": "code",
   "execution_count": 7,
   "metadata": {},
   "outputs": [
    {
     "name": "stdout",
     "output_type": "stream",
     "text": [
      "\n",
      "         Samples: 1000\n",
      "        Variants: 10961\n",
      "       Call Rate: 0.983163\n",
      "         Contigs: ['X', '12', '8', '19', '4', '15', '11', '9', '22', '13', '16', '5', '10', '21', '6', '1', '17', '14', '20', '2', '18', '7', '3']\n",
      "   Multiallelics: 0\n",
      "            SNPs: 10961\n",
      "            MNPs: 0\n",
      "      Insertions: 0\n",
      "       Deletions: 0\n",
      " Complex Alleles: 0\n",
      "    Star Alleles: 0\n",
      "     Max Alleles: 2\n"
     ]
    }
   ],
   "source": [
    "vds.summarize().report()"
   ]
  },
  {
   "cell_type": "code",
   "execution_count": 8,
   "metadata": {},
   "outputs": [
    {
     "data": {
      "text/plain": [
       "[Variant(contig=1, start=904165, ref=G, alts=[AltAllele(ref=G, alt=A)]),\n",
       " Variant(contig=1, start=909917, ref=G, alts=[AltAllele(ref=G, alt=A)]),\n",
       " Variant(contig=1, start=986963, ref=C, alts=[AltAllele(ref=C, alt=T)]),\n",
       " Variant(contig=1, start=1563691, ref=T, alts=[AltAllele(ref=T, alt=G)]),\n",
       " Variant(contig=1, start=1707740, ref=T, alts=[AltAllele(ref=T, alt=G)])]"
      ]
     },
     "execution_count": 8,
     "metadata": {},
     "output_type": "execute_result"
    }
   ],
   "source": [
    "vds.query_variants('variants.take(5)')"
   ]
  },
  {
   "cell_type": "code",
   "execution_count": 9,
   "metadata": {},
   "outputs": [
    {
     "data": {
      "text/plain": [
       "[u'HG00096', u'HG00097', u'HG00099', u'HG00100', u'HG00101']"
      ]
     },
     "execution_count": 9,
     "metadata": {},
     "output_type": "execute_result"
    }
   ],
   "source": [
    "vds.query_samples('samples.take(5)')"
   ]
  },
  {
   "cell_type": "code",
   "execution_count": 10,
   "metadata": {},
   "outputs": [
    {
     "data": {
      "text/plain": [
       "[u'HG00096', u'HG00097', u'HG00099', u'HG00100', u'HG00101']"
      ]
     },
     "execution_count": 10,
     "metadata": {},
     "output_type": "execute_result"
    }
   ],
   "source": [
    "vds.sample_ids[:5]"
   ]
  },
  {
   "cell_type": "code",
   "execution_count": 11,
   "metadata": {},
   "outputs": [
    {
     "data": {
      "text/plain": [
       "[Genotype(GT=0, AD=[4, 0], DP=4, GQ=12, PL=[0, 12, 194]),\n",
       " Genotype(GT=1, AD=[4, 3], DP=7, GQ=85, PL=[85, 0, 109]),\n",
       " Genotype(GT=0, AD=[1, 0], DP=1, GQ=3, PL=[0, 3, 42]),\n",
       " Genotype(GT=0, AD=[14, 0], DP=14, GQ=42, PL=[0, 42, 533]),\n",
       " Genotype(GT=0, AD=[12, 0], DP=12, GQ=36, PL=[0, 36, 420])]"
      ]
     },
     "execution_count": 11,
     "metadata": {},
     "output_type": "execute_result"
    }
   ],
   "source": [
    "vds.query_genotypes('gs.take(5)')"
   ]
  },
  {
   "cell_type": "code",
   "execution_count": 12,
   "metadata": {},
   "outputs": [
    {
     "name": "stdout",
     "output_type": "stream",
     "text": [
      "/bin/sh: 1: column: not found\r\n",
      "head: write error: Broken pipe\r\n"
     ]
    }
   ],
   "source": [
    "! head data/1kg_annotations.txt | column -t"
   ]
  },
  {
   "cell_type": "code",
   "execution_count": 13,
   "metadata": {},
   "outputs": [
    {
     "name": "stderr",
     "output_type": "stream",
     "text": [
      "2018-06-18 18:34:18 Hail: INFO: Reading table to impute column types\n",
      "2018-06-18 18:34:19 Hail: INFO: Finished type imputation\n",
      "  Loading column `Sample' as type String (imputed)\n",
      "  Loading column `Population' as type String (imputed)\n",
      "  Loading column `SuperPopulation' as type String (imputed)\n",
      "  Loading column `isFemale' as type Boolean (imputed)\n",
      "  Loading column `PurpleHair' as type Boolean (imputed)\n",
      "  Loading column `CaffeineConsumption' as type Int (imputed)\n"
     ]
    }
   ],
   "source": [
    "table = hc.import_table('hdfs:///data/1kg_annotations.txt', impute=True).key_by('Sample')"
   ]
  },
  {
   "cell_type": "code",
   "execution_count": 14,
   "metadata": {},
   "outputs": [
    {
     "name": "stdout",
     "output_type": "stream",
     "text": [
      "Struct{Sample:String,Population:String,SuperPopulation:String,isFemale:Boolean,PurpleHair:Boolean,CaffeineConsumption:Int}\n"
     ]
    }
   ],
   "source": [
    "print(table.schema)"
   ]
  },
  {
   "cell_type": "code",
   "execution_count": 15,
   "metadata": {},
   "outputs": [
    {
     "name": "stdout",
     "output_type": "stream",
     "text": [
      "Struct{\n",
      "     Sample: String,\n",
      "     Population: String,\n",
      "     SuperPopulation: String,\n",
      "     isFemale: Boolean,\n",
      "     PurpleHair: Boolean,\n",
      "     CaffeineConsumption: Int\n",
      " }\n"
     ]
    }
   ],
   "source": [
    "pprint(table.schema)"
   ]
  },
  {
   "cell_type": "code",
   "execution_count": 16,
   "metadata": {},
   "outputs": [
    {
     "name": "stdout",
     "output_type": "stream",
     "text": [
      "+-------+----------+---------------+--------+----------+-------------------+\n",
      "| Sample|Population|SuperPopulation|isFemale|PurpleHair|CaffeineConsumption|\n",
      "+-------+----------+---------------+--------+----------+-------------------+\n",
      "|NA19784|       MXL|            AMR|   false|     false|                  8|\n",
      "|NA19102|       YRI|            AFR|    true|     false|                  6|\n",
      "|HG00141|       GBR|            EUR|   false|     false|                  6|\n",
      "|HG01890|       ACB|            AFR|   false|     false|                  8|\n",
      "|HG00263|       GBR|            EUR|    true|      true|                  6|\n",
      "|NA20908|       GIH|            SAS|    true|      true|                  9|\n",
      "|HG04075|       STU|            SAS|    true|     false|                  9|\n",
      "|NA18982|       JPT|            EAS|   false|     false|                  5|\n",
      "|NA12873|       CEU|            EUR|    true|     false|                  6|\n",
      "|HG02677|       GWD|            AFR|    true|      true|                  5|\n",
      "+-------+----------+---------------+--------+----------+-------------------+\n",
      "only showing top 10 rows\n",
      "\n"
     ]
    }
   ],
   "source": [
    "table.to_dataframe().show(10)"
   ]
  },
  {
   "cell_type": "code",
   "execution_count": 17,
   "metadata": {},
   "outputs": [
    {
     "name": "stdout",
     "output_type": "stream",
     "text": [
      "Empty\n"
     ]
    }
   ],
   "source": [
    "pprint(vds.sample_schema)"
   ]
  },
  {
   "cell_type": "code",
   "execution_count": 18,
   "metadata": {},
   "outputs": [],
   "source": [
    "vds = vds.annotate_samples_table(table, root='sa')"
   ]
  },
  {
   "cell_type": "code",
   "execution_count": 19,
   "metadata": {},
   "outputs": [
    {
     "name": "stdout",
     "output_type": "stream",
     "text": [
      "Struct{\n",
      "     Population: String,\n",
      "     SuperPopulation: String,\n",
      "     isFemale: Boolean,\n",
      "     PurpleHair: Boolean,\n",
      "     CaffeineConsumption: Int\n",
      " }\n"
     ]
    }
   ],
   "source": [
    "pprint(vds.sample_schema)"
   ]
  },
  {
   "cell_type": "code",
   "execution_count": 20,
   "metadata": {},
   "outputs": [
    {
     "name": "stdout",
     "output_type": "stream",
     "text": [
      "{u'AFR': 1018L, u'AMR': 535L, u'EAS': 617L, u'EUR': 669L, u'SAS': 661L}\n"
     ]
    }
   ],
   "source": [
    "pprint(table.query('SuperPopulation.counter()'))"
   ]
  },
  {
   "cell_type": "code",
   "execution_count": 21,
   "metadata": {},
   "outputs": [
    {
     "name": "stdout",
     "output_type": "stream",
     "text": [
      "{u'max': 10.0,\n",
      " u'mean': 6.219714285714286,\n",
      " u'min': 3.0,\n",
      " u'nNotMissing': 3500L,\n",
      " u'stdev': 1.9387801550964776,\n",
      " u'sum': 21769.0}\n"
     ]
    }
   ],
   "source": [
    "pprint(table.query('CaffeineConsumption.stats()'))"
   ]
  },
  {
   "cell_type": "code",
   "execution_count": 22,
   "metadata": {},
   "outputs": [
    {
     "data": {
      "text/plain": [
       "3500L"
      ]
     },
     "execution_count": 22,
     "metadata": {},
     "output_type": "execute_result"
    }
   ],
   "source": [
    "table.count()"
   ]
  },
  {
   "cell_type": "code",
   "execution_count": 23,
   "metadata": {},
   "outputs": [
    {
     "data": {
      "text/plain": [
       "1000"
      ]
     },
     "execution_count": 23,
     "metadata": {},
     "output_type": "execute_result"
    }
   ],
   "source": [
    "vds.num_samples"
   ]
  },
  {
   "cell_type": "code",
   "execution_count": 24,
   "metadata": {},
   "outputs": [
    {
     "data": {
      "text/plain": [
       "{u'AFR': 101L, u'AMR': 285L, u'EAS': 308L, u'EUR': 298L, u'SAS': 8L}"
      ]
     },
     "execution_count": 24,
     "metadata": {},
     "output_type": "execute_result"
    }
   ],
   "source": [
    "vds.query_samples('samples.map(s => sa.SuperPopulation).counter()')"
   ]
  },
  {
   "cell_type": "code",
   "execution_count": 25,
   "metadata": {},
   "outputs": [
    {
     "name": "stdout",
     "output_type": "stream",
     "text": [
      "{u'max': 10.0,\n",
      " u'mean': 6.783000000000003,\n",
      " u'min': 3.0,\n",
      " u'nNotMissing': 1000L,\n",
      " u'stdev': 1.624780292839619,\n",
      " u'sum': 6783.000000000003}\n"
     ]
    }
   ],
   "source": [
    "pprint(vds.query_samples('samples.map(s => sa.CaffeineConsumption).stats()'))"
   ]
  },
  {
   "cell_type": "code",
   "execution_count": 26,
   "metadata": {},
   "outputs": [
    {
     "name": "stdout",
     "output_type": "stream",
     "text": [
      "[(AltAllele(ref=C, alt=T), 2436L),\n",
      " (AltAllele(ref=G, alt=A), 2387L),\n",
      " (AltAllele(ref=A, alt=G), 1944L),\n",
      " (AltAllele(ref=T, alt=C), 1879L),\n",
      " (AltAllele(ref=C, alt=A), 496L),\n",
      " (AltAllele(ref=G, alt=T), 480L),\n",
      " (AltAllele(ref=T, alt=G), 468L),\n",
      " (AltAllele(ref=A, alt=C), 454L),\n",
      " (AltAllele(ref=C, alt=G), 150L),\n",
      " (AltAllele(ref=G, alt=C), 112L),\n",
      " (AltAllele(ref=T, alt=A), 79L),\n",
      " (AltAllele(ref=A, alt=T), 76L)]\n"
     ]
    }
   ],
   "source": [
    "snp_counts = vds.query_variants('variants.map(v => v.altAllele()).filter(aa => aa.isSNP()).counter()')\n",
    "pprint(Counter(snp_counts).most_common())"
   ]
  },
  {
   "cell_type": "code",
   "execution_count": 27,
   "metadata": {},
   "outputs": [
    {
     "name": "stderr",
     "output_type": "stream",
     "text": [
      "/usr/lib/python2.7/dist-packages/matplotlib/font_manager.py:1279: UserWarning: findfont: Font family [u'sans-serif'] not found. Falling back to Bitstream Vera Sans\n",
      "  (prop.get_family(), self.defaultFamily[fontext]))\n",
      "/usr/lib/python2.7/dist-packages/matplotlib/font_manager.py:1289: UserWarning: findfont: Could not match :family=Bitstream Vera Sans:style=normal:variant=normal:weight=normal:stretch=normal:size=10.0. Returning /usr/share/matplotlib/mpl-data/fonts/ttf/cmb10.ttf\n",
      "  UserWarning)\n"
     ]
    },
    {
     "data": {
      "image/png": "[encoded data removed]",
      "text/plain": [
       "<matplotlib.figure.Figure at 0x7f9fdb4e1fd0>"
      ]
     },
     "metadata": {},
     "output_type": "display_data"
    }
   ],
   "source": [
    "dp_hist = vds.query_genotypes('gs.map(g => g.dp).hist(0, 30, 30)')\n",
    "plt.xlim(0, 31)\n",
    "plt.bar(dp_hist.binEdges[1:], dp_hist.binFrequencies)\n",
    "plt.show()"
   ]
  },
  {
   "cell_type": "code",
   "execution_count": 28,
   "metadata": {},
   "outputs": [
    {
     "name": "stdout",
     "output_type": "stream",
     "text": [
      "Struct{\n",
      "     Population: String,\n",
      "     SuperPopulation: String,\n",
      "     isFemale: Boolean,\n",
      "     PurpleHair: Boolean,\n",
      "     CaffeineConsumption: Int\n",
      " }\n"
     ]
    }
   ],
   "source": [
    "pprint(vds.sample_schema)"
   ]
  },
  {
   "cell_type": "code",
   "execution_count": 29,
   "metadata": {},
   "outputs": [],
   "source": [
    "vds = vds.sample_qc()"
   ]
  },
  {
   "cell_type": "code",
   "execution_count": 30,
   "metadata": {},
   "outputs": [
    {
     "name": "stdout",
     "output_type": "stream",
     "text": [
      "Struct{\n",
      "     Population: String,\n",
      "     SuperPopulation: String,\n",
      "     isFemale: Boolean,\n",
      "     PurpleHair: Boolean,\n",
      "     CaffeineConsumption: Int,\n",
      "     qc: Struct{\n",
      "         callRate: Double,\n",
      "         nCalled: Int,\n",
      "         nNotCalled: Int,\n",
      "         nHomRef: Int,\n",
      "         nHet: Int,\n",
      "         nHomVar: Int,\n",
      "         nSNP: Int,\n",
      "         nInsertion: Int,\n",
      "         nDeletion: Int,\n",
      "         nSingleton: Int,\n",
      "         nTransition: Int,\n",
      "         nTransversion: Int,\n",
      "         dpMean: Double,\n",
      "         dpStDev: Double,\n",
      "         gqMean: Double,\n",
      "         gqStDev: Double,\n",
      "         nNonRef: Int,\n",
      "         rTiTv: Double,\n",
      "         rHetHomVar: Double,\n",
      "         rInsertionDeletion: Double\n",
      "     }\n",
      " }\n"
     ]
    }
   ],
   "source": [
    "pprint(vds.sample_schema)"
   ]
  },
  {
   "cell_type": "code",
   "execution_count": 31,
   "metadata": {},
   "outputs": [],
   "source": [
    "df = vds.samples_table().to_pandas()"
   ]
  },
  {
   "cell_type": "code",
   "execution_count": 32,
   "metadata": {},
   "outputs": [
    {
     "data": {
      "text/html": [
       "<div style=\"max-height:1000px;max-width:1500px;overflow:auto;\">\n",
       "<table border=\"1\" class=\"dataframe\">\n",
       "  <thead>\n",
       "    <tr style=\"text-align: right;\">\n",
       "      <th></th>\n",
       "      <th>s</th>\n",
       "      <th>sa.Population</th>\n",
       "      <th>sa.SuperPopulation</th>\n",
       "      <th>sa.isFemale</th>\n",
       "      <th>sa.PurpleHair</th>\n",
       "      <th>sa.CaffeineConsumption</th>\n",
       "      <th>sa.qc.callRate</th>\n",
       "      <th>sa.qc.nCalled</th>\n",
       "      <th>sa.qc.nNotCalled</th>\n",
       "      <th>sa.qc.nHomRef</th>\n",
       "      <th>...</th>\n",
       "      <th>sa.qc.nTransition</th>\n",
       "      <th>sa.qc.nTransversion</th>\n",
       "      <th>sa.qc.dpMean</th>\n",
       "      <th>sa.qc.dpStDev</th>\n",
       "      <th>sa.qc.gqMean</th>\n",
       "      <th>sa.qc.gqStDev</th>\n",
       "      <th>sa.qc.nNonRef</th>\n",
       "      <th>sa.qc.rTiTv</th>\n",
       "      <th>sa.qc.rHetHomVar</th>\n",
       "      <th>sa.qc.rInsertionDeletion</th>\n",
       "    </tr>\n",
       "  </thead>\n",
       "  <tbody>\n",
       "    <tr>\n",
       "      <th>0</th>\n",
       "      <td> HG00096</td>\n",
       "      <td> GBR</td>\n",
       "      <td> EUR</td>\n",
       "      <td> False</td>\n",
       "      <td> False</td>\n",
       "      <td> 6</td>\n",
       "      <td> 0.979017</td>\n",
       "      <td> 10731</td>\n",
       "      <td> 230</td>\n",
       "      <td> 6321</td>\n",
       "      <td>...</td>\n",
       "      <td> 5233</td>\n",
       "      <td> 1190</td>\n",
       "      <td>  4.566828</td>\n",
       "      <td> 2.343927</td>\n",
       "      <td> 22.506570</td>\n",
       "      <td> 22.531111</td>\n",
       "      <td> 4410</td>\n",
       "      <td> 4.397479</td>\n",
       "      <td> 1.190760</td>\n",
       "      <td> None</td>\n",
       "    </tr>\n",
       "    <tr>\n",
       "      <th>1</th>\n",
       "      <td> HG00097</td>\n",
       "      <td> GBR</td>\n",
       "      <td> EUR</td>\n",
       "      <td>  True</td>\n",
       "      <td>  True</td>\n",
       "      <td> 6</td>\n",
       "      <td> 0.993705</td>\n",
       "      <td> 10892</td>\n",
       "      <td>  69</td>\n",
       "      <td> 6152</td>\n",
       "      <td>...</td>\n",
       "      <td> 5279</td>\n",
       "      <td> 1251</td>\n",
       "      <td>  9.440750</td>\n",
       "      <td> 3.653101</td>\n",
       "      <td> 42.334833</td>\n",
       "      <td> 28.494689</td>\n",
       "      <td> 4740</td>\n",
       "      <td> 4.219824</td>\n",
       "      <td> 1.648045</td>\n",
       "      <td> None</td>\n",
       "    </tr>\n",
       "    <tr>\n",
       "      <th>2</th>\n",
       "      <td> HG00099</td>\n",
       "      <td> GBR</td>\n",
       "      <td> EUR</td>\n",
       "      <td>  True</td>\n",
       "      <td> False</td>\n",
       "      <td> 6</td>\n",
       "      <td> 0.988687</td>\n",
       "      <td> 10837</td>\n",
       "      <td> 124</td>\n",
       "      <td> 6113</td>\n",
       "      <td>...</td>\n",
       "      <td> 5377</td>\n",
       "      <td> 1229</td>\n",
       "      <td>  8.240004</td>\n",
       "      <td> 3.720313</td>\n",
       "      <td> 37.523761</td>\n",
       "      <td> 28.130359</td>\n",
       "      <td> 4724</td>\n",
       "      <td> 4.375102</td>\n",
       "      <td> 1.510096</td>\n",
       "      <td> None</td>\n",
       "    </tr>\n",
       "    <tr>\n",
       "      <th>3</th>\n",
       "      <td> HG00100</td>\n",
       "      <td> GBR</td>\n",
       "      <td> EUR</td>\n",
       "      <td>  True</td>\n",
       "      <td> False</td>\n",
       "      <td> 6</td>\n",
       "      <td> 0.999909</td>\n",
       "      <td> 10960</td>\n",
       "      <td>   1</td>\n",
       "      <td> 6088</td>\n",
       "      <td>...</td>\n",
       "      <td> 5400</td>\n",
       "      <td> 1238</td>\n",
       "      <td> 12.756478</td>\n",
       "      <td> 3.912233</td>\n",
       "      <td> 52.740967</td>\n",
       "      <td> 27.669909</td>\n",
       "      <td> 4872</td>\n",
       "      <td> 4.361874</td>\n",
       "      <td> 1.758777</td>\n",
       "      <td> None</td>\n",
       "    </tr>\n",
       "    <tr>\n",
       "      <th>4</th>\n",
       "      <td> HG00101</td>\n",
       "      <td> GBR</td>\n",
       "      <td> EUR</td>\n",
       "      <td> False</td>\n",
       "      <td>  True</td>\n",
       "      <td> 8</td>\n",
       "      <td> 0.995347</td>\n",
       "      <td> 10910</td>\n",
       "      <td>  51</td>\n",
       "      <td> 6229</td>\n",
       "      <td>...</td>\n",
       "      <td> 5358</td>\n",
       "      <td> 1212</td>\n",
       "      <td>  6.573118</td>\n",
       "      <td> 2.887462</td>\n",
       "      <td> 30.568286</td>\n",
       "      <td> 25.611360</td>\n",
       "      <td> 4681</td>\n",
       "      <td> 4.420792</td>\n",
       "      <td> 1.478031</td>\n",
       "      <td> None</td>\n",
       "    </tr>\n",
       "  </tbody>\n",
       "</table>\n",
       "<p>5 rows × 26 columns</p>\n",
       "</div>"
      ],
      "text/plain": [
       "         s sa.Population sa.SuperPopulation sa.isFemale sa.PurpleHair  \\\n",
       "0  HG00096           GBR                EUR       False         False   \n",
       "1  HG00097           GBR                EUR        True          True   \n",
       "2  HG00099           GBR                EUR        True         False   \n",
       "3  HG00100           GBR                EUR        True         False   \n",
       "4  HG00101           GBR                EUR       False          True   \n",
       "\n",
       "   sa.CaffeineConsumption  sa.qc.callRate  sa.qc.nCalled  sa.qc.nNotCalled  \\\n",
       "0                       6        0.979017          10731               230   \n",
       "1                       6        0.993705          10892                69   \n",
       "2                       6        0.988687          10837               124   \n",
       "3                       6        0.999909          10960                 1   \n",
       "4                       8        0.995347          10910                51   \n",
       "\n",
       "   sa.qc.nHomRef      ...        sa.qc.nTransition  sa.qc.nTransversion  \\\n",
       "0           6321      ...                     5233                 1190   \n",
       "1           6152      ...                     5279                 1251   \n",
       "2           6113      ...                     5377                 1229   \n",
       "3           6088      ...                     5400                 1238   \n",
       "4           6229      ...                     5358                 1212   \n",
       "\n",
       "   sa.qc.dpMean  sa.qc.dpStDev  sa.qc.gqMean  sa.qc.gqStDev  sa.qc.nNonRef  \\\n",
       "0      4.566828       2.343927     22.506570      22.531111           4410   \n",
       "1      9.440750       3.653101     42.334833      28.494689           4740   \n",
       "2      8.240004       3.720313     37.523761      28.130359           4724   \n",
       "3     12.756478       3.912233     52.740967      27.669909           4872   \n",
       "4      6.573118       2.887462     30.568286      25.611360           4681   \n",
       "\n",
       "   sa.qc.rTiTv  sa.qc.rHetHomVar  sa.qc.rInsertionDeletion  \n",
       "0     4.397479          1.190760                      None  \n",
       "1     4.219824          1.648045                      None  \n",
       "2     4.375102          1.510096                      None  \n",
       "3     4.361874          1.758777                      None  \n",
       "4     4.420792          1.478031                      None  \n",
       "\n",
       "[5 rows x 26 columns]"
      ]
     },
     "execution_count": 32,
     "metadata": {},
     "output_type": "execute_result"
    }
   ],
   "source": [
    "df.head()"
   ]
  },
  {
   "cell_type": "code",
   "execution_count": 33,
   "metadata": {},
   "outputs": [
    {
     "name": "stderr",
     "output_type": "stream",
     "text": [
      "/usr/lib/python2.7/dist-packages/matplotlib/font_manager.py:1289: UserWarning: findfont: Could not match :family=Bitstream Vera Sans:style=normal:variant=normal:weight=normal:stretch=normal:size=11.0. Returning /usr/share/matplotlib/mpl-data/fonts/ttf/cmb10.ttf\n",
      "  UserWarning)\n"
     ]
    },
    {
     "data": {
      "image/png": "[encoded data removed]",
      "text/plain": [
       "<matplotlib.figure.Figure at 0x7f9fdb368cd0>"
      ]
     },
     "metadata": {},
     "output_type": "display_data"
    }
   ],
   "source": [
    "plt.clf()\n",
    "plt.subplot(1, 2, 1)\n",
    "plt.hist(df[\"sa.qc.callRate\"], bins=np.arange(.75, 1.01, .01))\n",
    "plt.xlabel(\"Call Rate\")\n",
    "plt.ylabel(\"Frequency\")\n",
    "plt.xlim(.75, 1)\n",
    "\n",
    "plt.subplot(1, 2, 2)\n",
    "plt.hist(df[\"sa.qc.gqMean\"], bins = np.arange(0, 105, 5))\n",
    "plt.xlabel(\"Mean Sample GQ\")\n",
    "plt.ylabel(\"Frequency\")\n",
    "plt.xlim(0, 105)\n",
    "\n",
    "plt.tight_layout()\n",
    "plt.show()"
   ]
  },
  {
   "cell_type": "code",
   "execution_count": 34,
   "metadata": {},
   "outputs": [
    {
     "data": {
      "image/png": "[encoded data removed]",
      "text/plain": [
       "<matplotlib.figure.Figure at 0x7f9fdb222ad0>"
      ]
     },
     "metadata": {},
     "output_type": "display_data"
    }
   ],
   "source": [
    "plt.scatter(df[\"sa.qc.dpMean\"], df[\"sa.qc.callRate\"],\n",
    "            alpha=0.1)\n",
    "plt.xlabel('Mean DP')\n",
    "plt.ylabel('Call Rate')\n",
    "plt.xlim(0, 20)\n",
    "plt.show()"
   ]
  },
  {
   "cell_type": "code",
   "execution_count": 35,
   "metadata": {},
   "outputs": [
    {
     "data": {
      "image/png": "[encoded data removed]",
      "text/plain": [
       "<matplotlib.figure.Figure at 0x7f9fdb0061d0>"
      ]
     },
     "metadata": {},
     "output_type": "display_data"
    }
   ],
   "source": [
    "plt.scatter(df[\"sa.qc.dpMean\"], df[\"sa.qc.callRate\"],\n",
    "            alpha=0.1)\n",
    "plt.xlabel('Mean DP')\n",
    "plt.ylabel('Call Rate')\n",
    "plt.xlim(0, 20)\n",
    "plt.axhline(0.97, c='k')\n",
    "plt.axvline(4, c='k')\n",
    "plt.show()"
   ]
  },
  {
   "cell_type": "code",
   "execution_count": 36,
   "metadata": {},
   "outputs": [
    {
     "name": "stdout",
     "output_type": "stream",
     "text": [
      "After filter, 843/1000 samples remain.\n"
     ]
    }
   ],
   "source": [
    "vds = vds.filter_samples_expr('sa.qc.dpMean >= 4 && sa.qc.callRate >= 0.97')\n",
    "print('After filter, %d/1000 samples remain.' % vds.num_samples)"
   ]
  },
  {
   "cell_type": "code",
   "execution_count": 37,
   "metadata": {},
   "outputs": [],
   "source": [
    "filter_condition_ab = '''let ab = g.ad[1] / g.ad.sum() in\n",
    "                         ((g.isHomRef && ab <= 0.1) ||\n",
    "                          (g.isHet && ab >= 0.25 && ab <= 0.75) ||\n",
    "                          (g.isHomVar && ab >= 0.9))'''\n",
    "vds = vds.filter_genotypes(filter_condition_ab)"
   ]
  },
  {
   "cell_type": "code",
   "execution_count": 38,
   "metadata": {},
   "outputs": [
    {
     "name": "stdout",
     "output_type": "stream",
     "text": [
      "post QC call rate is 0.955\n"
     ]
    }
   ],
   "source": [
    "post_qc_call_rate = vds.query_genotypes('gs.fraction(g => g.isCalled)')\n",
    "print('post QC call rate is %.3f' % post_qc_call_rate)"
   ]
  },
  {
   "cell_type": "code",
   "execution_count": 39,
   "metadata": {},
   "outputs": [
    {
     "name": "stdout",
     "output_type": "stream",
     "text": [
      "Struct{\n",
      "     rsid: String,\n",
      "     qual: Double,\n",
      "     filters: Set[String],\n",
      "     pass: Boolean,\n",
      "     info: Struct{\n",
      "         AC: Array[Int],\n",
      "         AF: Array[Double],\n",
      "         AN: Int,\n",
      "         BaseQRankSum: Double,\n",
      "         ClippingRankSum: Double,\n",
      "         DP: Int,\n",
      "         DS: Boolean,\n",
      "         FS: Double,\n",
      "         HaplotypeScore: Double,\n",
      "         InbreedingCoeff: Double,\n",
      "         MLEAC: Array[Int],\n",
      "         MLEAF: Array[Double],\n",
      "         MQ: Double,\n",
      "         MQ0: Int,\n",
      "         MQRankSum: Double,\n",
      "         QD: Double,\n",
      "         ReadPosRankSum: Double,\n",
      "         set: String\n",
      "     }\n",
      " }\n"
     ]
    }
   ],
   "source": [
    "pprint(vds.variant_schema)"
   ]
  },
  {
   "cell_type": "code",
   "execution_count": 40,
   "metadata": {},
   "outputs": [],
   "source": [
    "vds = vds.variant_qc().cache()"
   ]
  },
  {
   "cell_type": "code",
   "execution_count": 41,
   "metadata": {},
   "outputs": [
    {
     "name": "stdout",
     "output_type": "stream",
     "text": [
      "Struct{\n",
      "     rsid: String,\n",
      "     qual: Double,\n",
      "     filters: Set[String],\n",
      "     pass: Boolean,\n",
      "     info: Struct{\n",
      "         AC: Array[Int],\n",
      "         AF: Array[Double],\n",
      "         AN: Int,\n",
      "         BaseQRankSum: Double,\n",
      "         ClippingRankSum: Double,\n",
      "         DP: Int,\n",
      "         DS: Boolean,\n",
      "         FS: Double,\n",
      "         HaplotypeScore: Double,\n",
      "         InbreedingCoeff: Double,\n",
      "         MLEAC: Array[Int],\n",
      "         MLEAF: Array[Double],\n",
      "         MQ: Double,\n",
      "         MQ0: Int,\n",
      "         MQRankSum: Double,\n",
      "         QD: Double,\n",
      "         ReadPosRankSum: Double,\n",
      "         set: String\n",
      "     },\n",
      "     qc: Struct{\n",
      "         callRate: Double,\n",
      "         AC: Int,\n",
      "         AF: Double,\n",
      "         nCalled: Int,\n",
      "         nNotCalled: Int,\n",
      "         nHomRef: Int,\n",
      "         nHet: Int,\n",
      "         nHomVar: Int,\n",
      "         dpMean: Double,\n",
      "         dpStDev: Double,\n",
      "         gqMean: Double,\n",
      "         gqStDev: Double,\n",
      "         nNonRef: Int,\n",
      "         rHeterozygosity: Double,\n",
      "         rHetHomVar: Double,\n",
      "         rExpectedHetFrequency: Double,\n",
      "         pHWE: Double\n",
      "     }\n",
      " }\n"
     ]
    }
   ],
   "source": [
    "pprint(vds.variant_schema)"
   ]
  },
  {
   "cell_type": "code",
   "execution_count": 42,
   "metadata": {},
   "outputs": [
    {
     "data": {
      "image/png": "[encoded data removed]",
      "text/plain": [
       "<matplotlib.figure.Figure at 0x7f9fdbdd0590>"
      ]
     },
     "metadata": {},
     "output_type": "display_data"
    }
   ],
   "source": [
    "variant_df = vds.variants_table().to_pandas()\n",
    "\n",
    "plt.clf()\n",
    "plt.subplot(2, 2, 1)\n",
    "variantgq_means = variant_df[\"va.qc.gqMean\"]\n",
    "plt.hist(variantgq_means, bins = np.arange(0, 84, 2))\n",
    "plt.xlabel(\"Variant Mean GQ\")\n",
    "plt.ylabel(\"Frequency\")\n",
    "plt.xlim(0, 80)\n",
    "\n",
    "plt.subplot(2, 2, 2)\n",
    "variant_mleaf = variant_df[\"va.qc.AF\"]\n",
    "plt.hist(variant_mleaf, bins = np.arange(0, 1.05, .025))\n",
    "plt.xlabel(\"Minor Allele Frequency\")\n",
    "plt.ylabel(\"Frequency\")\n",
    "plt.xlim(0, 1)\n",
    "\n",
    "plt.subplot(2, 2, 3)\n",
    "plt.hist(variant_df['va.qc.callRate'], bins = np.arange(0, 1.05, .01))\n",
    "plt.xlabel(\"Variant Call Rate\")\n",
    "plt.ylabel(\"Frequency\")\n",
    "plt.xlim(.5, 1)\n",
    "\n",
    "plt.subplot(2, 2, 4)\n",
    "plt.hist(variant_df['va.qc.pHWE'], bins = np.arange(0, 1.05, .025))\n",
    "plt.xlabel(\"Hardy-Weinberg Equilibrium p-value\")\n",
    "plt.ylabel(\"Frequency\")\n",
    "plt.xlim(0, 1)\n",
    "\n",
    "plt.tight_layout()\n",
    "plt.show()\n"
   ]
  },
  {
   "cell_type": "code",
   "execution_count": 43,
   "metadata": {},
   "outputs": [
    {
     "name": "stderr",
     "output_type": "stream",
     "text": [
      "2018-06-18 18:34:57 Hail: INFO: Running LD prune with nSamples=843, nVariants=9085, nPartitions=4, and maxQueueSize=257123.\n",
      "2018-06-18 18:34:58 Hail: INFO: LD prune step 1 of 3: nVariantsKept=8478, nPartitions=4, time=669.110ms\n",
      "2018-06-18 18:35:00 Hail: INFO: LD prune step 2 of 3: nVariantsKept=8478, nPartitions=12, time=2.207s\n",
      "2018-06-18 18:35:00 Hail: INFO: Coerced sorted dataset\n",
      "2018-06-18 18:35:01 Hail: INFO: LD prune step 3 of 3: nVariantsKept=8478, time=887.942ms\n"
     ]
    }
   ],
   "source": [
    "common_vds = (vds\n",
    "              .filter_variants_expr('va.qc.AF > 0.01')\n",
    "              .ld_prune(memory_per_core=256, num_cores=4))"
   ]
  },
  {
   "cell_type": "code",
   "execution_count": 44,
   "metadata": {},
   "outputs": [
    {
     "data": {
      "text/plain": [
       "(843L, 8555L)"
      ]
     },
     "execution_count": 44,
     "metadata": {},
     "output_type": "execute_result"
    }
   ],
   "source": [
    "common_vds.count()"
   ]
  },
  {
   "cell_type": "code",
   "execution_count": 45,
   "metadata": {},
   "outputs": [
    {
     "name": "stderr",
     "output_type": "stream",
     "text": [
      "2018-06-18 18:35:02 Hail: INFO: Running linear regression on 843 samples with 1 covariate including intercept...\n"
     ]
    },
    {
     "name": "stdout",
     "output_type": "stream",
     "text": [
      "Struct{\n",
      "     rsid: String,\n",
      "     qual: Double,\n",
      "     filters: Set[String],\n",
      "     pass: Boolean,\n",
      "     info: Struct{\n",
      "         AC: Array[Int],\n",
      "         AF: Array[Double],\n",
      "         AN: Int,\n",
      "         BaseQRankSum: Double,\n",
      "         ClippingRankSum: Double,\n",
      "         DP: Int,\n",
      "         DS: Boolean,\n",
      "         FS: Double,\n",
      "         HaplotypeScore: Double,\n",
      "         InbreedingCoeff: Double,\n",
      "         MLEAC: Array[Int],\n",
      "         MLEAF: Array[Double],\n",
      "         MQ: Double,\n",
      "         MQ0: Int,\n",
      "         MQRankSum: Double,\n",
      "         QD: Double,\n",
      "         ReadPosRankSum: Double,\n",
      "         set: String\n",
      "     },\n",
      "     qc: Struct{\n",
      "         callRate: Double,\n",
      "         AC: Int,\n",
      "         AF: Double,\n",
      "         nCalled: Int,\n",
      "         nNotCalled: Int,\n",
      "         nHomRef: Int,\n",
      "         nHet: Int,\n",
      "         nHomVar: Int,\n",
      "         dpMean: Double,\n",
      "         dpStDev: Double,\n",
      "         gqMean: Double,\n",
      "         gqStDev: Double,\n",
      "         nNonRef: Int,\n",
      "         rHeterozygosity: Double,\n",
      "         rHetHomVar: Double,\n",
      "         rExpectedHetFrequency: Double,\n",
      "         pHWE: Double\n",
      "     },\n",
      "     linreg: Struct{\n",
      "         beta: Double,\n",
      "         se: Double,\n",
      "         tstat: Double,\n",
      "         pval: Double\n",
      "     }\n",
      " }\n"
     ]
    }
   ],
   "source": [
    "gwas = common_vds.linreg('sa.CaffeineConsumption')\n",
    "pprint(gwas.variant_schema)"
   ]
  },
  {
   "cell_type": "code",
   "execution_count": 46,
   "metadata": {},
   "outputs": [],
   "source": [
    "def qqplot(pvals, xMax, yMax):\n",
    "    spvals = sorted(filter(lambda x: x and not(isnan(x)), pvals))\n",
    "    exp = [-log(float(i) / len(spvals), 10) for i in np.arange(1, len(spvals) + 1, 1)]\n",
    "    obs = [-log(p, 10) for p in spvals]\n",
    "    plt.clf()\n",
    "    plt.scatter(exp, obs)\n",
    "    plt.plot(np.arange(0, max(xMax, yMax)), c=\"red\")\n",
    "    plt.xlabel(\"Expected p-value (-log10 scale)\")\n",
    "    plt.ylabel(\"Observed p-value (-log10 scale)\")\n",
    "    plt.xlim(0, xMax)\n",
    "    plt.ylim(0, yMax)\n",
    "    plt.show()"
   ]
  },
  {
   "cell_type": "code",
   "execution_count": 47,
   "metadata": {},
   "outputs": [
    {
     "data": {
      "image/png": "[encoded data removed]",
      "text/plain": [
       "<matplotlib.figure.Figure at 0x7f9fdb209350>"
      ]
     },
     "metadata": {},
     "output_type": "display_data"
    }
   ],
   "source": [
    "qqplot(gwas.query_variants('variants.map(v => va.linreg.pval).collect()'),\n",
    "       5, 6)"
   ]
  },
  {
   "cell_type": "code",
   "execution_count": 48,
   "metadata": {},
   "outputs": [
    {
     "name": "stderr",
     "output_type": "stream",
     "text": [
      "2018-06-18 18:35:05 Hail: INFO: Running PCA with 5 components...\n"
     ]
    }
   ],
   "source": [
    "pca = common_vds.pca('sa.pca', k=5, eigenvalues='global.eigen')"
   ]
  },
  {
   "cell_type": "code",
   "execution_count": 49,
   "metadata": {},
   "outputs": [
    {
     "name": "stdout",
     "output_type": "stream",
     "text": [
      "{u'eigen': {u'PC1': 56.347079054817996,\n",
      "            u'PC2': 37.810900301039815,\n",
      "            u'PC3': 16.919743018222373,\n",
      "            u'PC4': 2.7073499356343933,\n",
      "            u'PC5': 2.0851252187821228}}\n"
     ]
    }
   ],
   "source": [
    "pprint(pca.globals)"
   ]
  },
  {
   "cell_type": "code",
   "execution_count": 50,
   "metadata": {},
   "outputs": [
    {
     "name": "stdout",
     "output_type": "stream",
     "text": [
      "Struct{\n",
      "     Population: String,\n",
      "     SuperPopulation: String,\n",
      "     isFemale: Boolean,\n",
      "     PurpleHair: Boolean,\n",
      "     CaffeineConsumption: Int,\n",
      "     qc: Struct{\n",
      "         callRate: Double,\n",
      "         nCalled: Int,\n",
      "         nNotCalled: Int,\n",
      "         nHomRef: Int,\n",
      "         nHet: Int,\n",
      "         nHomVar: Int,\n",
      "         nSNP: Int,\n",
      "         nInsertion: Int,\n",
      "         nDeletion: Int,\n",
      "         nSingleton: Int,\n",
      "         nTransition: Int,\n",
      "         nTransversion: Int,\n",
      "         dpMean: Double,\n",
      "         dpStDev: Double,\n",
      "         gqMean: Double,\n",
      "         gqStDev: Double,\n",
      "         nNonRef: Int,\n",
      "         rTiTv: Double,\n",
      "         rHetHomVar: Double,\n",
      "         rInsertionDeletion: Double\n",
      "     },\n",
      "     pca: Struct{\n",
      "         PC1: Double,\n",
      "         PC2: Double,\n",
      "         PC3: Double,\n",
      "         PC4: Double,\n",
      "         PC5: Double\n",
      "     }\n",
      " }\n"
     ]
    }
   ],
   "source": [
    "pprint(pca.sample_schema)"
   ]
  },
  {
   "cell_type": "code",
   "execution_count": 51,
   "metadata": {},
   "outputs": [
    {
     "data": {
      "image/png": "[encoded data removed]",
      "text/plain": [
       "<matplotlib.figure.Figure at 0x7f9fdaf28690>"
      ]
     },
     "metadata": {},
     "output_type": "display_data"
    }
   ],
   "source": [
    "pca_table = pca.samples_table().to_pandas()\n",
    "colors = {'AFR': 'green', 'AMR': 'red', 'EAS': 'black', 'EUR': 'blue', 'SAS': 'cyan'}\n",
    "plt.scatter(pca_table[\"sa.pca.PC1\"], pca_table[\"sa.pca.PC2\"],\n",
    "            c = pca_table[\"sa.SuperPopulation\"].map(colors),\n",
    "            alpha = .5)\n",
    "plt.xlim(-0.6, 0.6)\n",
    "plt.xlabel(\"PC1\")\n",
    "plt.ylabel(\"PC2\")\n",
    "legend_entries = [mpatches.Patch(color=c, label=pheno) for pheno, c in colors.items()]\n",
    "plt.legend(handles=legend_entries, loc=2)\n",
    "plt.show()"
   ]
  },
  {
   "cell_type": "code",
   "execution_count": 52,
   "metadata": {},
   "outputs": [
    {
     "name": "stderr",
     "output_type": "stream",
     "text": [
      "2018-06-18 18:35:20 Hail: INFO: Running linear regression on 843 samples with 5 covariates including intercept...\n"
     ]
    }
   ],
   "source": [
    "pvals = (common_vds\n",
    "        .annotate_samples_table(pca.samples_table(), expr='sa.pca = table.pca')\n",
    "        .linreg('sa.CaffeineConsumption', covariates=['sa.pca.PC1', 'sa.pca.PC2', 'sa.pca.PC3', 'sa.isFemale'])\n",
    "        .query_variants('variants.map(v => va.linreg.pval).collect()'))"
   ]
  },
  {
   "cell_type": "code",
   "execution_count": 53,
   "metadata": {},
   "outputs": [
    {
     "data": {
      "image/png": "[encoded data removed]",
      "text/plain": [
       "<matplotlib.figure.Figure at 0x7f9fd9e5a650>"
      ]
     },
     "metadata": {},
     "output_type": "display_data"
    }
   ],
   "source": [
    "qqplot(pvals, 5, 6)"
   ]
  },
  {
   "cell_type": "code",
   "execution_count": 54,
   "metadata": {},
   "outputs": [
    {
     "name": "stderr",
     "output_type": "stream",
     "text": [
      "2018-06-18 18:35:22 Hail: INFO: Running linear regression on 843 samples with 5 covariates including intercept...\n"
     ]
    }
   ],
   "source": [
    "pvals = (common_vds\n",
    "        .annotate_samples_table(pca.samples_table(), expr='sa.pca = table.pca')\n",
    "        .linreg('sa.CaffeineConsumption',\n",
    "                covariates=['sa.pca.PC1', 'sa.pca.PC2', 'sa.pca.PC3', 'sa.isFemale'],\n",
    "                use_dosages=True)\n",
    "        .query_variants('variants.map(v => va.linreg.pval).collect()'))"
   ]
  },
  {
   "cell_type": "code",
   "execution_count": 55,
   "metadata": {},
   "outputs": [
    {
     "data": {
      "image/png": "[encoded data removed]",
      "text/plain": [
       "<matplotlib.figure.Figure at 0x7f9fdaac1190>"
      ]
     },
     "metadata": {},
     "output_type": "display_data"
    }
   ],
   "source": [
    "qqplot(pvals, 5, 6)"
   ]
  },
  {
   "cell_type": "code",
   "execution_count": 56,
   "metadata": {},
   "outputs": [],
   "source": [
    "kt = (vds.genotypes_table()\n",
    "         .aggregate_by_key(key_expr=['pop = sa.SuperPopulation', 'chromosome = v.contig'],\n",
    "                           agg_expr=['n_het = g.filter(g => g.isHet()).count()']))"
   ]
  },
  {
   "cell_type": "code",
   "execution_count": 57,
   "metadata": {},
   "outputs": [
    {
     "name": "stdout",
     "output_type": "stream",
     "text": [
      "+---+----------+-----+\n",
      "|pop|chromosome|n_het|\n",
      "+---+----------+-----+\n",
      "|EUR|        14|16380|\n",
      "|SAS|        17|  511|\n",
      "|EUR|         5|30717|\n",
      "|AFR|         7|11889|\n",
      "|EAS|         9|23951|\n",
      "|AFR|        21| 3529|\n",
      "|EAS|         X| 7403|\n",
      "|EAS|         1|49375|\n",
      "|EUR|        19|13483|\n",
      "|AMR|        15|18935|\n",
      "|AMR|         7|31527|\n",
      "|EUR|        13|17321|\n",
      "|EUR|        12|26134|\n",
      "|EUR|        15|15807|\n",
      "|EUR|         6|33910|\n",
      "|EAS|        20|17466|\n",
      "|SAS|        11|  901|\n",
      "|AFR|         3|15829|\n",
      "|EAS|         2|45384|\n",
      "|AMR|        18|18982|\n",
      "+---+----------+-----+\n",
      "only showing top 20 rows\n",
      "\n"
     ]
    }
   ],
   "source": [
    "kt.to_dataframe().show()"
   ]
  },
  {
   "cell_type": "code",
   "execution_count": 58,
   "metadata": {},
   "outputs": [],
   "source": [
    "kt2 = (vds.genotypes_table()\n",
    "          .aggregate_by_key(key_expr=['''maf_bin = if (va.qc.AF < 0.01) \"< 1%\"\n",
    "                                                   else if (va.qc.AF < 0.05) \"1%-5%\"\n",
    "                                                   else \"> 5%\" ''',\n",
    "                                     'purple_hair = sa.PurpleHair'],\n",
    "                           agg_expr=['mean_gq = g.map(g => g.gq).stats().mean',\n",
    "                                     'mean_dp = g.map(g => g.dp).stats().mean']))"
   ]
  },
  {
   "cell_type": "code",
   "execution_count": 59,
   "metadata": {},
   "outputs": [
    {
     "name": "stdout",
     "output_type": "stream",
     "text": [
      "+-------+-----------+------------------+-----------------+\n",
      "|maf_bin|purple_hair|           mean_gq|          mean_dp|\n",
      "+-------+-----------+------------------+-----------------+\n",
      "|   > 5%|       true| 36.09305651197578|7.407450459057423|\n",
      "|   < 1%|       true| 22.68197887434976|7.374254453728496|\n",
      "|   < 1%|      false|22.986128698357074|7.492131714314245|\n",
      "|   > 5%|      false|36.341259980753755|7.533399982371768|\n",
      "|  1%-5%|       true|24.093123033233528|7.269552536649012|\n",
      "|  1%-5%|      false|  24.3519587208908|7.405582424428774|\n",
      "+-------+-----------+------------------+-----------------+\n",
      "\n"
     ]
    }
   ],
   "source": [
    "kt2.to_dataframe().show()"
   ]
  },
  {
   "cell_type": "code",
   "execution_count": null,
   "metadata": {},
   "outputs": [],
   "source": []
  }
 ],
 "metadata": {
  "kernelspec": {
   "display_name": "PySpark 2",
   "language": "python",
   "name": "pyspark2"
  },
  "language_info": {
   "codemirror_mode": {
    "name": "ipython",
    "version": 2
   },
   "file_extension": ".py",
   "mimetype": "text/x-python",
   "name": "python",
   "nbconvert_exporter": "python",
   "pygments_lexer": "ipython2",
   "version": "2.7.9"
  }
 },
 "nbformat": 4,
 "nbformat_minor": 2
}
