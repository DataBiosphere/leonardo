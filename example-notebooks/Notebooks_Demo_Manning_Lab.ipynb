{
 "cells": [
  {
   "cell_type": "markdown",
   "metadata": {},
   "source": [
    "# In this tutorial, we'll go through an analysis of publicly available 1000 genomes data"
   ]
  },
  {
   "cell_type": "markdown",
   "metadata": {},
   "source": [
    "## We're using the phase 3 genotypes with some mock phenotype measures for Type 2 Diabetes"
   ]
  },
  {
   "cell_type": "markdown",
   "metadata": {},
   "source": [
    "### First, we'll load some packages\n",
    "#### FISS -  tools for interacting with a Firecloud workspace\n",
    "#### Pandas & Numpy - for printing and manipulating some of the data\n",
    "#### Pprint - for pretty printing"
   ]
  },
  {
   "cell_type": "code",
   "execution_count": 1,
   "metadata": {},
   "outputs": [],
   "source": [
    "%%capture\n",
    "from firecloud import fiss\n",
    "import pandas as pd\n",
    "pd.set_option('display.max_row', 10000)\n",
    "import numpy as np\n",
    "from pprint import pprint\n"
   ]
  },
  {
   "cell_type": "markdown",
   "metadata": {},
   "source": [
    "### Next, let's take a look at the workspace data model to see how many samples and participants we have.\n",
    "#### Check out the data model to see how we have populated it.\n",
    "#### In this case, a *participant* is a set of genotypes and a *sample* is a set of phenotypes and associated data for a single analysis.\n",
    "#### Each *sample* refers to a *participant*, both in the data model and in the actual phenotypes."
   ]
  },
  {
   "cell_type": "code",
   "execution_count": 2,
   "metadata": {},
   "outputs": [
    {
     "name": "stdout",
     "output_type": "stream",
     "text": [
      "sample count: 2\n",
      "participant count: 1\n"
     ]
    }
   ],
   "source": [
    "# Take a look at the metadata that we have in the data model of our workspace.\n",
    "ent_types = fiss.fapi.list_entity_types(\"broad-firecloud-dsde\", \"Notebooks-Demo-Manning-Lab\").json()\n",
    "for t in ent_types.keys():\n",
    "    print t, \"count:\", ent_types[t]['count']"
   ]
  },
  {
   "cell_type": "code",
   "execution_count": 3,
   "metadata": {},
   "outputs": [],
   "source": [
    "# The genotype filepaths are stored in the participant entity\n",
    "# Here we get all of the participant metadata in json format using FISS\n",
    "participant = fiss.fapi.get_entities(\"broad-firecloud-dsde\", \"Notebooks-Demo-Manning-Lab\", \"participant\").json()[0]"
   ]
  },
  {
   "cell_type": "code",
   "execution_count": 4,
   "metadata": {},
   "outputs": [
    {
     "name": "stdout",
     "output_type": "stream",
     "text": [
      "u'gs://fc-fce06143-8e4d-4460-8475-a61ddea26b4b/1kg_genotypes/ALL.chr22_GRCh38.genotypes.20170504.vcf.bgz'\n"
     ]
    }
   ],
   "source": [
    "# The filepaths are in the column 'vcf_gz' in the datamodel. Put these filepaths into a python list\n",
    "vcf_files = sorted(participant['attributes']['vcf']['items'])\n",
    "pprint(vcf_files[13])"
   ]
  },
  {
   "cell_type": "code",
   "execution_count": 5,
   "metadata": {},
   "outputs": [
    {
     "name": "stdout",
     "output_type": "stream",
     "text": [
      "{u'attributes': {u'kinship': u'gs://fc-fce06143-8e4d-4460-8475-a61ddea26b4b/1kg_kinship/1kg_GRCh38_genotypes_20170504_kinship.txt',\n",
      "                 u'participant': {u'entityName': u'1kg_GRCh38_genotypes_20170504',\n",
      "                                  u'entityType': u'participant'},\n",
      "                 u'phenotypes': u'gs://fc-fce06143-8e4d-4460-8475-a61ddea26b4b/1kg_phenotypes/1kg_GRCh38_genotypes_20170504_demo_phenotypes.csv',\n",
      "                 u'sample_ids': u'gs://fc-fce06143-8e4d-4460-8475-a61ddea26b4b/1kg_sampleids/1kg_GRCh38_genotypes_20170504_demo_phenotypes.sample.ids.txt'},\n",
      " u'entityType': u'sample',\n",
      " u'name': u'1kg_GRCh38_genotypes_20170504_demo_phenotypes'}\n"
     ]
    }
   ],
   "source": [
    "# We'll also want the phenotype file for a GWAS. This is in the sample metadata.\n",
    "sample = fiss.fapi.get_entities(\"broad-firecloud-dsde\", \"Notebooks-Demo-Manning-Lab\", \"sample\").json()[0]\n",
    "pprint(sample)"
   ]
  },
  {
   "cell_type": "code",
   "execution_count": 6,
   "metadata": {},
   "outputs": [
    {
     "name": "stdout",
     "output_type": "stream",
     "text": [
      "u'gs://fc-fce06143-8e4d-4460-8475-a61ddea26b4b/1kg_phenotypes/1kg_GRCh38_genotypes_20170504_demo_phenotypes.csv'\n"
     ]
    }
   ],
   "source": [
    "# Find the phenotype filepath under the column 'phenotypes'\n",
    "phenotypes = sample['attributes']['phenotypes']\n",
    "pprint(phenotypes)"
   ]
  },
  {
   "cell_type": "markdown",
   "metadata": {},
   "source": [
    "### Now that we know where to find our data, let's start Hail and do some manipulation."
   ]
  },
  {
   "cell_type": "code",
   "execution_count": 7,
   "metadata": {},
   "outputs": [
    {
     "name": "stderr",
     "output_type": "stream",
     "text": [
      "Running on Apache Spark version 2.0.2\n",
      "SparkUI available at http://10.128.0.20:4040\n",
      "Welcome to\n",
      "     __  __     <>__\n",
      "    / /_/ /__  __/ /\n",
      "   / __  / _ `/ / /\n",
      "  /_/ /_/\\_,_/_/_/   version 0.1-5c275cc\n"
     ]
    }
   ],
   "source": [
    "# start hail context\n",
    "from hail import *\n",
    "hc = HailContext(sc, log = \"manning-lab-demo.log\")"
   ]
  },
  {
   "cell_type": "code",
   "execution_count": 8,
   "metadata": {},
   "outputs": [
    {
     "name": "stderr",
     "output_type": "stream",
     "text": [
      "2018-05-23 14:20:20 Hail: INFO: Multiallelic variants detected. Some methods require splitting or filtering multiallelics first.\n",
      "2018-05-23 14:20:20 Hail: INFO: Coerced almost-sorted dataset\n"
     ]
    }
   ],
   "source": [
    "# load the genotype data\n",
    "vds = (\n",
    "    hc\n",
    "    .import_vcf(\n",
    "        vcf_files[13].strip(),\n",
    "        min_partitions = 100\n",
    "    )\n",
    "    .split_multi()\n",
    "    .sample_variants(0.01)\n",
    ")\n"
   ]
  },
  {
   "cell_type": "code",
   "execution_count": 9,
   "metadata": {},
   "outputs": [
    {
     "name": "stderr",
     "output_type": "stream",
     "text": [
      "2018-05-23 14:20:21 Hail: INFO: Reading table with no type imputation\n",
      "  Loading column `sample_id' as type `String' (user-specified)\n",
      "  Loading column `population' as type `String' (user-specified)\n",
      "  Loading column `ancestry' as type `String' (user-specified)\n",
      "  Loading column `sex' as type `String' (user-specified)\n",
      "  Loading column `last_exam_age' as type `Double' (user-specified)\n",
      "  Loading column `t2d' as type `Int' (user-specified)\n",
      "  Loading column `bmi' as type `Double' (user-specified)\n",
      "\n"
     ]
    }
   ],
   "source": [
    "# read the phenotype data\n",
    "pheno = (\n",
    "    hc\n",
    "    .import_table(\n",
    "       phenotypes,\n",
    "        delimiter=',',\n",
    "        types = {\n",
    "            'sample_id': TString(), \n",
    "            'population': TString(), \n",
    "            'ancestry': TString(), \n",
    "            'sex': TString(), \n",
    "            'last_exam_age': TDouble(), \n",
    "            't2d': TInt(),\n",
    "            'bmi': TDouble()\n",
    "        }\n",
    "    )\n",
    "    .key_by(\n",
    "        'sample_id'\n",
    "    )\n",
    ")"
   ]
  },
  {
   "cell_type": "code",
   "execution_count": 10,
   "metadata": {},
   "outputs": [],
   "source": [
    "# simplify some columns by reannotating the phenotype data\n",
    "pheno = (\n",
    "    pheno\n",
    "    .annotate('t2d_bool = if (t2d == 1) true else false')\n",
    "    .annotate('female_bool = if (sex == \"F\") true else false')\n",
    ")"
   ]
  },
  {
   "cell_type": "code",
   "execution_count": 11,
   "metadata": {},
   "outputs": [
    {
     "data": {
      "text/html": [
       "<div style=\"max-height:1000px;max-width:1500px;overflow:auto;\">\n",
       "<table border=\"1\" class=\"dataframe\">\n",
       "  <thead>\n",
       "    <tr style=\"text-align: right;\">\n",
       "      <th></th>\n",
       "      <th>sample_id</th>\n",
       "      <th>population</th>\n",
       "      <th>ancestry</th>\n",
       "      <th>sex</th>\n",
       "      <th>last_exam_age</th>\n",
       "      <th>t2d</th>\n",
       "      <th>bmi</th>\n",
       "      <th>t2d_bool</th>\n",
       "      <th>female_bool</th>\n",
       "    </tr>\n",
       "  </thead>\n",
       "  <tbody>\n",
       "    <tr>\n",
       "      <th>0   </th>\n",
       "      <td> HG00096</td>\n",
       "      <td> GBR</td>\n",
       "      <td> EUR</td>\n",
       "      <td> M</td>\n",
       "      <td> 44.395244</td>\n",
       "      <td> 0</td>\n",
       "      <td> 28.680759</td>\n",
       "      <td> False</td>\n",
       "      <td> False</td>\n",
       "    </tr>\n",
       "    <tr>\n",
       "      <th>1   </th>\n",
       "      <td> HG00097</td>\n",
       "      <td> GBR</td>\n",
       "      <td> EUR</td>\n",
       "      <td> F</td>\n",
       "      <td> 47.698225</td>\n",
       "      <td> 0</td>\n",
       "      <td> 31.456875</td>\n",
       "      <td> False</td>\n",
       "      <td>  True</td>\n",
       "    </tr>\n",
       "    <tr>\n",
       "      <th>2   </th>\n",
       "      <td> HG00099</td>\n",
       "      <td> GBR</td>\n",
       "      <td> EUR</td>\n",
       "      <td> F</td>\n",
       "      <td> 65.587083</td>\n",
       "      <td> 0</td>\n",
       "      <td> 31.513200</td>\n",
       "      <td> False</td>\n",
       "      <td>  True</td>\n",
       "    </tr>\n",
       "    <tr>\n",
       "      <th>3   </th>\n",
       "      <td> HG00100</td>\n",
       "      <td> GBR</td>\n",
       "      <td> EUR</td>\n",
       "      <td> F</td>\n",
       "      <td> 50.705084</td>\n",
       "      <td> 1</td>\n",
       "      <td> 26.688602</td>\n",
       "      <td>  True</td>\n",
       "      <td>  True</td>\n",
       "    </tr>\n",
       "    <tr>\n",
       "      <th>4   </th>\n",
       "      <td> HG00101</td>\n",
       "      <td> GBR</td>\n",
       "      <td> EUR</td>\n",
       "      <td> M</td>\n",
       "      <td> 51.292877</td>\n",
       "      <td> 0</td>\n",
       "      <td> 35.547491</td>\n",
       "      <td> False</td>\n",
       "      <td> False</td>\n",
       "    </tr>\n",
       "    <tr>\n",
       "      <th>86  </th>\n",
       "      <td> HG00551</td>\n",
       "      <td> PUR</td>\n",
       "      <td> AMR</td>\n",
       "      <td> F</td>\n",
       "      <td> 42.827818</td>\n",
       "      <td> 0</td>\n",
       "      <td> 15.261945</td>\n",
       "      <td> False</td>\n",
       "      <td>  True</td>\n",
       "    </tr>\n",
       "    <tr>\n",
       "      <th>87  </th>\n",
       "      <td> HG00553</td>\n",
       "      <td> PUR</td>\n",
       "      <td> AMR</td>\n",
       "      <td> M</td>\n",
       "      <td> 58.846505</td>\n",
       "      <td> 0</td>\n",
       "      <td>  8.656539</td>\n",
       "      <td> False</td>\n",
       "      <td> False</td>\n",
       "    </tr>\n",
       "    <tr>\n",
       "      <th>88  </th>\n",
       "      <td> HG00554</td>\n",
       "      <td> PUR</td>\n",
       "      <td> AMR</td>\n",
       "      <td> F</td>\n",
       "      <td> 39.844074</td>\n",
       "      <td> 0</td>\n",
       "      <td>  7.398908</td>\n",
       "      <td> False</td>\n",
       "      <td>  True</td>\n",
       "    </tr>\n",
       "    <tr>\n",
       "      <th>89  </th>\n",
       "      <td> HG00637</td>\n",
       "      <td> PUR</td>\n",
       "      <td> AMR</td>\n",
       "      <td> M</td>\n",
       "      <td> 65.475811</td>\n",
       "      <td> 0</td>\n",
       "      <td>  8.178434</td>\n",
       "      <td> False</td>\n",
       "      <td> False</td>\n",
       "    </tr>\n",
       "    <tr>\n",
       "      <th>90  </th>\n",
       "      <td> HG00638</td>\n",
       "      <td> PUR</td>\n",
       "      <td> AMR</td>\n",
       "      <td> F</td>\n",
       "      <td> 48.668490</td>\n",
       "      <td> 0</td>\n",
       "      <td> 12.447545</td>\n",
       "      <td> False</td>\n",
       "      <td>  True</td>\n",
       "    </tr>\n",
       "    <tr>\n",
       "      <th>288 </th>\n",
       "      <td> HG01879</td>\n",
       "      <td> ACB</td>\n",
       "      <td> AFR</td>\n",
       "      <td> M</td>\n",
       "      <td> 44.497763</td>\n",
       "      <td> 0</td>\n",
       "      <td> 12.664823</td>\n",
       "      <td> False</td>\n",
       "      <td> False</td>\n",
       "    </tr>\n",
       "    <tr>\n",
       "      <th>289 </th>\n",
       "      <td> HG01880</td>\n",
       "      <td> ACB</td>\n",
       "      <td> AFR</td>\n",
       "      <td> F</td>\n",
       "      <td> 50.912674</td>\n",
       "      <td> 0</td>\n",
       "      <td> 10.886385</td>\n",
       "      <td> False</td>\n",
       "      <td>  True</td>\n",
       "    </tr>\n",
       "    <tr>\n",
       "      <th>290 </th>\n",
       "      <td> HG01882</td>\n",
       "      <td> ACB</td>\n",
       "      <td> AFR</td>\n",
       "      <td> M</td>\n",
       "      <td> 30.382924</td>\n",
       "      <td> 0</td>\n",
       "      <td> 12.710595</td>\n",
       "      <td> False</td>\n",
       "      <td> False</td>\n",
       "    </tr>\n",
       "    <tr>\n",
       "      <th>291 </th>\n",
       "      <td> HG01883</td>\n",
       "      <td> ACB</td>\n",
       "      <td> AFR</td>\n",
       "      <td> F</td>\n",
       "      <td> 38.801003</td>\n",
       "      <td> 0</td>\n",
       "      <td> 14.598360</td>\n",
       "      <td> False</td>\n",
       "      <td>  True</td>\n",
       "    </tr>\n",
       "    <tr>\n",
       "      <th>292 </th>\n",
       "      <td> HG01885</td>\n",
       "      <td> ACB</td>\n",
       "      <td> AFR</td>\n",
       "      <td> M</td>\n",
       "      <td> 36.722445</td>\n",
       "      <td> 0</td>\n",
       "      <td>  9.663941</td>\n",
       "      <td> False</td>\n",
       "      <td> False</td>\n",
       "    </tr>\n",
       "    <tr>\n",
       "      <th>503 </th>\n",
       "      <td> NA18525</td>\n",
       "      <td> CHB</td>\n",
       "      <td> EAS</td>\n",
       "      <td> F</td>\n",
       "      <td> 29.555229</td>\n",
       "      <td> 0</td>\n",
       "      <td> 25.275361</td>\n",
       "      <td> False</td>\n",
       "      <td>  True</td>\n",
       "    </tr>\n",
       "    <tr>\n",
       "      <th>504 </th>\n",
       "      <td> NA18526</td>\n",
       "      <td> CHB</td>\n",
       "      <td> EAS</td>\n",
       "      <td> F</td>\n",
       "      <td> 64.234591</td>\n",
       "      <td> 1</td>\n",
       "      <td> 16.761600</td>\n",
       "      <td>  True</td>\n",
       "      <td>  True</td>\n",
       "    </tr>\n",
       "    <tr>\n",
       "      <th>505 </th>\n",
       "      <td> NA18528</td>\n",
       "      <td> CHB</td>\n",
       "      <td> EAS</td>\n",
       "      <td> F</td>\n",
       "      <td> 55.405027</td>\n",
       "      <td> 1</td>\n",
       "      <td> 16.366361</td>\n",
       "      <td>  True</td>\n",
       "      <td>  True</td>\n",
       "    </tr>\n",
       "    <tr>\n",
       "      <th>506 </th>\n",
       "      <td> NA18530</td>\n",
       "      <td> CHB</td>\n",
       "      <td> EAS</td>\n",
       "      <td> M</td>\n",
       "      <td> 49.664282</td>\n",
       "      <td> 0</td>\n",
       "      <td> 18.557944</td>\n",
       "      <td> False</td>\n",
       "      <td> False</td>\n",
       "    </tr>\n",
       "    <tr>\n",
       "      <th>507 </th>\n",
       "      <td> NA18531</td>\n",
       "      <td> CHB</td>\n",
       "      <td> EAS</td>\n",
       "      <td> F</td>\n",
       "      <td> 49.821364</td>\n",
       "      <td> 0</td>\n",
       "      <td> 19.421311</td>\n",
       "      <td> False</td>\n",
       "      <td>  True</td>\n",
       "    </tr>\n",
       "    <tr>\n",
       "      <th>1023</th>\n",
       "      <td> NA20845</td>\n",
       "      <td> GIH</td>\n",
       "      <td> SAS</td>\n",
       "      <td> M</td>\n",
       "      <td> 44.686531</td>\n",
       "      <td> 0</td>\n",
       "      <td> 23.342753</td>\n",
       "      <td> False</td>\n",
       "      <td> False</td>\n",
       "    </tr>\n",
       "    <tr>\n",
       "      <th>1024</th>\n",
       "      <td> NA20846</td>\n",
       "      <td> GIH</td>\n",
       "      <td> SAS</td>\n",
       "      <td> M</td>\n",
       "      <td> 44.123152</td>\n",
       "      <td> 0</td>\n",
       "      <td> 19.113603</td>\n",
       "      <td> False</td>\n",
       "      <td> False</td>\n",
       "    </tr>\n",
       "    <tr>\n",
       "      <th>1025</th>\n",
       "      <td> NA20847</td>\n",
       "      <td> GIH</td>\n",
       "      <td> SAS</td>\n",
       "      <td> F</td>\n",
       "      <td> 45.883021</td>\n",
       "      <td> 0</td>\n",
       "      <td> 18.582239</td>\n",
       "      <td> False</td>\n",
       "      <td>  True</td>\n",
       "    </tr>\n",
       "    <tr>\n",
       "      <th>1026</th>\n",
       "      <td> NA20849</td>\n",
       "      <td> GIH</td>\n",
       "      <td> SAS</td>\n",
       "      <td> F</td>\n",
       "      <td> 57.091856</td>\n",
       "      <td> 0</td>\n",
       "      <td> 27.543250</td>\n",
       "      <td> False</td>\n",
       "      <td>  True</td>\n",
       "    </tr>\n",
       "    <tr>\n",
       "      <th>1027</th>\n",
       "      <td> NA20850</td>\n",
       "      <td> GIH</td>\n",
       "      <td> SAS</td>\n",
       "      <td> M</td>\n",
       "      <td> 52.563968</td>\n",
       "      <td> 0</td>\n",
       "      <td> 37.807302</td>\n",
       "      <td> False</td>\n",
       "      <td> False</td>\n",
       "    </tr>\n",
       "  </tbody>\n",
       "</table>\n",
       "</div>"
      ],
      "text/plain": [
       "     sample_id population ancestry sex  last_exam_age  t2d        bmi  \\\n",
       "0      HG00096        GBR      EUR   M      44.395244    0  28.680759   \n",
       "1      HG00097        GBR      EUR   F      47.698225    0  31.456875   \n",
       "2      HG00099        GBR      EUR   F      65.587083    0  31.513200   \n",
       "3      HG00100        GBR      EUR   F      50.705084    1  26.688602   \n",
       "4      HG00101        GBR      EUR   M      51.292877    0  35.547491   \n",
       "86     HG00551        PUR      AMR   F      42.827818    0  15.261945   \n",
       "87     HG00553        PUR      AMR   M      58.846505    0   8.656539   \n",
       "88     HG00554        PUR      AMR   F      39.844074    0   7.398908   \n",
       "89     HG00637        PUR      AMR   M      65.475811    0   8.178434   \n",
       "90     HG00638        PUR      AMR   F      48.668490    0  12.447545   \n",
       "288    HG01879        ACB      AFR   M      44.497763    0  12.664823   \n",
       "289    HG01880        ACB      AFR   F      50.912674    0  10.886385   \n",
       "290    HG01882        ACB      AFR   M      30.382924    0  12.710595   \n",
       "291    HG01883        ACB      AFR   F      38.801003    0  14.598360   \n",
       "292    HG01885        ACB      AFR   M      36.722445    0   9.663941   \n",
       "503    NA18525        CHB      EAS   F      29.555229    0  25.275361   \n",
       "504    NA18526        CHB      EAS   F      64.234591    1  16.761600   \n",
       "505    NA18528        CHB      EAS   F      55.405027    1  16.366361   \n",
       "506    NA18530        CHB      EAS   M      49.664282    0  18.557944   \n",
       "507    NA18531        CHB      EAS   F      49.821364    0  19.421311   \n",
       "1023   NA20845        GIH      SAS   M      44.686531    0  23.342753   \n",
       "1024   NA20846        GIH      SAS   M      44.123152    0  19.113603   \n",
       "1025   NA20847        GIH      SAS   F      45.883021    0  18.582239   \n",
       "1026   NA20849        GIH      SAS   F      57.091856    0  27.543250   \n",
       "1027   NA20850        GIH      SAS   M      52.563968    0  37.807302   \n",
       "\n",
       "     t2d_bool female_bool  \n",
       "0       False       False  \n",
       "1       False        True  \n",
       "2       False        True  \n",
       "3        True        True  \n",
       "4       False       False  \n",
       "86      False        True  \n",
       "87      False       False  \n",
       "88      False        True  \n",
       "89      False       False  \n",
       "90      False        True  \n",
       "288     False       False  \n",
       "289     False        True  \n",
       "290     False       False  \n",
       "291     False        True  \n",
       "292     False       False  \n",
       "503     False        True  \n",
       "504      True        True  \n",
       "505      True        True  \n",
       "506     False       False  \n",
       "507     False        True  \n",
       "1023    False       False  \n",
       "1024    False       False  \n",
       "1025    False        True  \n",
       "1026    False        True  \n",
       "1027    False       False  "
      ]
     },
     "execution_count": 11,
     "metadata": {},
     "output_type": "execute_result"
    }
   ],
   "source": [
    "# show phenotype data\n",
    "pheno_pd = pheno.to_pandas()\n",
    "pheno_pd.groupby('ancestry').head()"
   ]
  },
  {
   "cell_type": "code",
   "execution_count": 12,
   "metadata": {},
   "outputs": [
    {
     "name": "stdout",
     "output_type": "stream",
     "text": [
      "{u'ACB': 96L,\n",
      " u'ASW': 61L,\n",
      " u'CEU': 99L,\n",
      " u'CHB': 103L,\n",
      " u'CLM': 94L,\n",
      " u'GBR': 91L,\n",
      " u'GIH': 103L,\n",
      " u'JPT': 104L,\n",
      " u'LWK': 99L,\n",
      " u'MXL': 64L,\n",
      " u'PUR': 104L,\n",
      " u'YRI': 108L}\n"
     ]
    }
   ],
   "source": [
    "# see how many inidividuals belong to each population group\n",
    "pprint(pheno.query('population.counter()'))"
   ]
  },
  {
   "cell_type": "code",
   "execution_count": 13,
   "metadata": {},
   "outputs": [
    {
     "data": {
      "text/html": [
       "<div style=\"max-height:1000px;max-width:1500px;overflow:auto;\">\n",
       "<table border=\"1\" class=\"dataframe\">\n",
       "  <thead>\n",
       "    <tr style=\"text-align: right;\">\n",
       "      <th></th>\n",
       "      <th>Ancestry</th>\n",
       "      <th>Population</th>\n",
       "      <th>Total_Individuals</th>\n",
       "      <th>Controls</th>\n",
       "      <th>Control_avg_bmi</th>\n",
       "      <th>Cases</th>\n",
       "      <th>Case_avg_bmi</th>\n",
       "    </tr>\n",
       "  </thead>\n",
       "  <tbody>\n",
       "    <tr>\n",
       "      <th>0 </th>\n",
       "      <td> EAS</td>\n",
       "      <td> CHB</td>\n",
       "      <td> 103</td>\n",
       "      <td> 89</td>\n",
       "      <td> 19.977816</td>\n",
       "      <td> 14</td>\n",
       "      <td> 14.915133</td>\n",
       "    </tr>\n",
       "    <tr>\n",
       "      <th>1 </th>\n",
       "      <td> AFR</td>\n",
       "      <td> ACB</td>\n",
       "      <td>  96</td>\n",
       "      <td> 75</td>\n",
       "      <td> 14.430800</td>\n",
       "      <td> 21</td>\n",
       "      <td> 18.908983</td>\n",
       "    </tr>\n",
       "    <tr>\n",
       "      <th>2 </th>\n",
       "      <td> AMR</td>\n",
       "      <td> PUR</td>\n",
       "      <td> 104</td>\n",
       "      <td> 87</td>\n",
       "      <td>  9.903439</td>\n",
       "      <td> 17</td>\n",
       "      <td> 19.614393</td>\n",
       "    </tr>\n",
       "    <tr>\n",
       "      <th>3 </th>\n",
       "      <td> AMR</td>\n",
       "      <td> MXL</td>\n",
       "      <td>  64</td>\n",
       "      <td> 50</td>\n",
       "      <td>  9.177107</td>\n",
       "      <td> 14</td>\n",
       "      <td> 21.733169</td>\n",
       "    </tr>\n",
       "    <tr>\n",
       "      <th>4 </th>\n",
       "      <td> AFR</td>\n",
       "      <td> LWK</td>\n",
       "      <td>  99</td>\n",
       "      <td> 77</td>\n",
       "      <td> 15.110111</td>\n",
       "      <td> 22</td>\n",
       "      <td> 21.200686</td>\n",
       "    </tr>\n",
       "    <tr>\n",
       "      <th>5 </th>\n",
       "      <td> EAS</td>\n",
       "      <td> JPT</td>\n",
       "      <td> 104</td>\n",
       "      <td> 80</td>\n",
       "      <td> 20.362662</td>\n",
       "      <td> 24</td>\n",
       "      <td> 15.717867</td>\n",
       "    </tr>\n",
       "    <tr>\n",
       "      <th>6 </th>\n",
       "      <td> AMR</td>\n",
       "      <td> CLM</td>\n",
       "      <td>  94</td>\n",
       "      <td> 74</td>\n",
       "      <td>  9.425871</td>\n",
       "      <td> 20</td>\n",
       "      <td> 18.484332</td>\n",
       "    </tr>\n",
       "    <tr>\n",
       "      <th>7 </th>\n",
       "      <td> EUR</td>\n",
       "      <td> GBR</td>\n",
       "      <td>  91</td>\n",
       "      <td> 66</td>\n",
       "      <td> 30.020802</td>\n",
       "      <td> 25</td>\n",
       "      <td> 36.250657</td>\n",
       "    </tr>\n",
       "    <tr>\n",
       "      <th>8 </th>\n",
       "      <td> SAS</td>\n",
       "      <td> GIH</td>\n",
       "      <td> 103</td>\n",
       "      <td> 83</td>\n",
       "      <td> 19.411811</td>\n",
       "      <td> 20</td>\n",
       "      <td> 20.051811</td>\n",
       "    </tr>\n",
       "    <tr>\n",
       "      <th>9 </th>\n",
       "      <td> AFR</td>\n",
       "      <td> YRI</td>\n",
       "      <td> 108</td>\n",
       "      <td> 86</td>\n",
       "      <td> 14.980899</td>\n",
       "      <td> 22</td>\n",
       "      <td> 21.859484</td>\n",
       "    </tr>\n",
       "    <tr>\n",
       "      <th>10</th>\n",
       "      <td> AFR</td>\n",
       "      <td> ASW</td>\n",
       "      <td>  61</td>\n",
       "      <td> 48</td>\n",
       "      <td> 14.507270</td>\n",
       "      <td> 13</td>\n",
       "      <td> 21.624178</td>\n",
       "    </tr>\n",
       "    <tr>\n",
       "      <th>11</th>\n",
       "      <td> EUR</td>\n",
       "      <td> CEU</td>\n",
       "      <td>  99</td>\n",
       "      <td> 83</td>\n",
       "      <td> 30.228124</td>\n",
       "      <td> 16</td>\n",
       "      <td> 41.689665</td>\n",
       "    </tr>\n",
       "  </tbody>\n",
       "</table>\n",
       "</div>"
      ],
      "text/plain": [
       "   Ancestry Population  Total_Individuals  Controls  Control_avg_bmi  Cases  \\\n",
       "0       EAS        CHB                103        89        19.977816     14   \n",
       "1       AFR        ACB                 96        75        14.430800     21   \n",
       "2       AMR        PUR                104        87         9.903439     17   \n",
       "3       AMR        MXL                 64        50         9.177107     14   \n",
       "4       AFR        LWK                 99        77        15.110111     22   \n",
       "5       EAS        JPT                104        80        20.362662     24   \n",
       "6       AMR        CLM                 94        74         9.425871     20   \n",
       "7       EUR        GBR                 91        66        30.020802     25   \n",
       "8       SAS        GIH                103        83        19.411811     20   \n",
       "9       AFR        YRI                108        86        14.980899     22   \n",
       "10      AFR        ASW                 61        48        14.507270     13   \n",
       "11      EUR        CEU                 99        83        30.228124     16   \n",
       "\n",
       "    Case_avg_bmi  \n",
       "0      14.915133  \n",
       "1      18.908983  \n",
       "2      19.614393  \n",
       "3      21.733169  \n",
       "4      21.200686  \n",
       "5      15.717867  \n",
       "6      18.484332  \n",
       "7      36.250657  \n",
       "8      20.051811  \n",
       "9      21.859484  \n",
       "10     21.624178  \n",
       "11     41.689665  "
      ]
     },
     "execution_count": 13,
     "metadata": {},
     "output_type": "execute_result"
    }
   ],
   "source": [
    "# Make a table to look at the data\n",
    "(pheno.aggregate_by_key(\n",
    "    [\n",
    "        \"Ancestry = ancestry\",\n",
    "        \"Population = population\"\n",
    "    ],\n",
    "    [\n",
    "        \"Total_Individuals = t2d.count()\",\n",
    "        \"Controls = t2d.filter(t => t == 0).count()\", \n",
    "        \"Control_avg_bmi = bmi.filter(t => t2d == 0).stats().mean\", \n",
    "        \"Cases = t2d.filter(t => t == 1).count()\", \n",
    "        \"Case_avg_bmi = bmi.filter(t => t2d == 1).stats().mean\"\n",
    "    ]\n",
    "    ).to_pandas()\n",
    ")\n"
   ]
  },
  {
   "cell_type": "code",
   "execution_count": 14,
   "metadata": {},
   "outputs": [
    {
     "data": {
      "image/png": "[encoded data removed]",
      "text/plain": [
       "<matplotlib.figure.Figure at 0x7f6751d59810>"
      ]
     },
     "metadata": {},
     "output_type": "display_data"
    }
   ],
   "source": [
    "# Lets look at the distribution of BMI per ancestry devided by case vs control\n",
    "import matplotlib.pyplot as plt\n",
    "import seaborn as sns\n",
    "%matplotlib inline\n",
    "plt.rcParams[\"figure.figsize\"] = [12,9]\n",
    "ax = sns.boxplot(x=\"ancestry\", y=\"bmi\", hue=\"t2d\", data=pheno_pd, palette=sns.xkcd_palette([\"windows blue\", \"amber\"]))"
   ]
  },
  {
   "cell_type": "code",
   "execution_count": 15,
   "metadata": {},
   "outputs": [
    {
     "data": {
      "image/png": "[encoded data removed]",
      "text/plain": [
       "<matplotlib.figure.Figure at 0x7f67690d4bd0>"
      ]
     },
     "metadata": {},
     "output_type": "display_data"
    }
   ],
   "source": [
    "# distributiuon of bmi over sex\n",
    "plt.rcParams[\"figure.figsize\"] = [12,9]\n",
    "ax = sns.boxplot(x=\"ancestry\", y=\"bmi\", hue=\"sex\", data=pheno_pd, palette=sns.xkcd_palette([\"windows blue\", \"amber\"]))"
   ]
  },
  {
   "cell_type": "code",
   "execution_count": 16,
   "metadata": {},
   "outputs": [
    {
     "data": {
      "image/png": "[encoded data removed]",
      "text/plain": [
       "<matplotlib.figure.Figure at 0x7f67690d4290>"
      ]
     },
     "metadata": {},
     "output_type": "display_data"
    }
   ],
   "source": [
    "# \"distribution of bmi per population\"\n",
    "plt.rcParams[\"figure.figsize\"] = [12,9]\n",
    "ax = sns.boxplot(x=\"population\", y=\"bmi\", hue=\"t2d\", data=pheno_pd, palette=sns.xkcd_palette([\"windows blue\", \"amber\"]))\n"
   ]
  },
  {
   "cell_type": "code",
   "execution_count": 17,
   "metadata": {},
   "outputs": [],
   "source": [
    "# filter the genotype data to keep only those samples with phenotype data and annotate the vds with the phenotype data\n",
    "vds = (\n",
    "    vds\n",
    "    .filter_samples_table(\n",
    "        pheno,\n",
    "        keep = True\n",
    "    )\n",
    "    .annotate_samples_table(\n",
    "        pheno,\n",
    "        root = 'sa.pheno'\n",
    "    )\n",
    ")"
   ]
  },
  {
   "cell_type": "markdown",
   "metadata": {},
   "source": [
    "### We can also look at the genotype data by generating some built-in QC measures."
   ]
  },
  {
   "cell_type": "code",
   "execution_count": 18,
   "metadata": {},
   "outputs": [],
   "source": [
    "# get some sample QC\n",
    "vds = vds.sample_qc()"
   ]
  },
  {
   "cell_type": "code",
   "execution_count": 19,
   "metadata": {},
   "outputs": [
    {
     "name": "stdout",
     "output_type": "stream",
     "text": [
      "Struct{\n",
      "     pheno: Struct{\n",
      "         population: String,\n",
      "         ancestry: String,\n",
      "         sex: String,\n",
      "         last_exam_age: Double,\n",
      "         t2d: Int,\n",
      "         bmi: Double,\n",
      "         t2d_bool: Boolean,\n",
      "         female_bool: Boolean\n",
      "     },\n",
      "     qc: Struct{\n",
      "         callRate: Double,\n",
      "         nCalled: Int,\n",
      "         nNotCalled: Int,\n",
      "         nHomRef: Int,\n",
      "         nHet: Int,\n",
      "         nHomVar: Int,\n",
      "         nSNP: Int,\n",
      "         nInsertion: Int,\n",
      "         nDeletion: Int,\n",
      "         nSingleton: Int,\n",
      "         nTransition: Int,\n",
      "         nTransversion: Int,\n",
      "         dpMean: Double,\n",
      "         dpStDev: Double,\n",
      "         gqMean: Double,\n",
      "         gqStDev: Double,\n",
      "         nNonRef: Int,\n",
      "         rTiTv: Double,\n",
      "         rHetHomVar: Double,\n",
      "         rInsertionDeletion: Double\n",
      "     }\n",
      " }\n"
     ]
    }
   ],
   "source": [
    "# take a look at the sample annotation schema\n",
    "pprint(vds.sample_schema)"
   ]
  },
  {
   "cell_type": "code",
   "execution_count": 20,
   "metadata": {},
   "outputs": [],
   "source": [
    "samp_tab = vds.samples_table().to_pandas()"
   ]
  },
  {
   "cell_type": "code",
   "execution_count": 21,
   "metadata": {},
   "outputs": [
    {
     "data": {
      "image/png": "[encoded data removed]",
      "text/plain": [
       "<matplotlib.figure.Figure at 0x7f67513127d0>"
      ]
     },
     "metadata": {},
     "output_type": "display_data"
    }
   ],
   "source": [
    "# See the distribution of nonRef alleles\n",
    "plt.clf()\n",
    "plt.hist(samp_tab['sa.qc.nNonRef'])\n",
    "plt.xlabel('# Alt alleles')\n",
    "plt.ylabel('# samples')\n",
    "plt.show()"
   ]
  },
  {
   "cell_type": "markdown",
   "metadata": {},
   "source": [
    "### We can use PCA to visualize sample relatedness"
   ]
  },
  {
   "cell_type": "code",
   "execution_count": 22,
   "metadata": {},
   "outputs": [
    {
     "name": "stderr",
     "output_type": "stream",
     "text": [
      "2018-05-23 14:22:25 Hail: INFO: Running LD prune with nSamples=1126, nVariants=1950, nPartitions=100, and maxQueueSize=202136.\n",
      "2018-05-23 14:22:52 Hail: INFO: LD prune step 1 of 3: nVariantsKept=1530, nPartitions=100, time=27.630s\n",
      "2018-05-23 14:22:54 Hail: INFO: LD prune step 2 of 3: nVariantsKept=1476, nPartitions=12, time=1.217s\n",
      "2018-05-23 14:22:54 Hail: INFO: Coerced sorted dataset\n",
      "2018-05-23 14:22:54 Hail: INFO: LD prune step 3 of 3: nVariantsKept=1471, time=658.432ms\n"
     ]
    }
   ],
   "source": [
    "# subset to common variants\n",
    "vds_common = (\n",
    "    vds\n",
    "    .filter_variants_expr(\n",
    "        'min(va.info.AF) > 0.01'\n",
    "    )\n",
    "    .ld_prune(\n",
    "        memory_per_core=256, \n",
    "        num_cores=4\n",
    "    )\n",
    ")"
   ]
  },
  {
   "cell_type": "code",
   "execution_count": 23,
   "metadata": {},
   "outputs": [
    {
     "name": "stderr",
     "output_type": "stream",
     "text": [
      "2018-05-23 14:22:54 Hail: INFO: Running PCA with 5 components...\n"
     ]
    }
   ],
   "source": [
    "pca = (\n",
    "    vds_common\n",
    "    .pca(\n",
    "        'sa.pca', \n",
    "        k=5, \n",
    "        eigenvalues='global.eigen'\n",
    "    )\n",
    ")"
   ]
  },
  {
   "cell_type": "code",
   "execution_count": 24,
   "metadata": {},
   "outputs": [
    {
     "data": {
      "image/png": "[encoded data removed]",
      "text/plain": [
       "<matplotlib.figure.Figure at 0x7f6751931f90>"
      ]
     },
     "metadata": {},
     "output_type": "display_data"
    }
   ],
   "source": [
    "# visualize\n",
    "import matplotlib.patches as mpatches\n",
    "from collections import Counter\n",
    "from math import log, isnan\n",
    "\n",
    "plt.rcParams[\"figure.figsize\"] = [12,9]\n",
    "colors = {'AFR': 'green', 'AMR': 'red', 'EAS': 'black', 'EUR': 'blue', 'SAS': 'cyan'}\n",
    "pca_table = pca.samples_table().to_pandas()\n",
    "\n",
    "fig = plt.figure()\n",
    "ax1 = fig.add_subplot(211)\n",
    "ax1.scatter(pca_table[\"sa.pca.PC1\"], pca_table[\"sa.pca.PC2\"], c = pca_table[\"sa.pheno.ancestry\"].map(colors), alpha = .5)\n",
    "ax1.set_xlim(-0.6, 0.6)\n",
    "ax1.set_xlabel(\"PC1\")\n",
    "ax1.set_ylabel(\"PC2\")\n",
    "legend_entries = [mpatches.Patch(color=c, label=anc) for anc, c in colors.items()]\n",
    "plt.legend(handles=legend_entries, loc=2)\n",
    "ax2 = fig.add_subplot(212)\n",
    "ax2.scatter(pca_table[\"sa.pca.PC1\"], pca_table[\"sa.pca.PC3\"],\n",
    "            c = pca_table[\"sa.pheno.ancestry\"].map(colors),\n",
    "            alpha = .5)\n",
    "ax2.set_xlim(-0.6, 0.6)\n",
    "ax2.set_xlabel(\"PC1\")\n",
    "ax2.set_ylabel(\"PC3\")\n",
    "\n",
    "plt.legend(handles=legend_entries, loc=2)\n",
    "plt.show()\n"
   ]
  },
  {
   "cell_type": "markdown",
   "metadata": {},
   "source": [
    "### Let's run a simple regression analysis using the first 3 PCA's and some other phenotypic information as covariates."
   ]
  },
  {
   "cell_type": "code",
   "execution_count": 25,
   "metadata": {},
   "outputs": [
    {
     "name": "stderr",
     "output_type": "stream",
     "text": [
      "2018-05-23 14:23:57 Hail: INFO: Running linear regression on 1126 samples with 6 covariates including intercept...\n"
     ]
    }
   ],
   "source": [
    "vds_common = (\n",
    "    vds_common\n",
    "    .annotate_samples_table(\n",
    "        pca.samples_table(), \n",
    "        expr='sa.pca = table.pca'\n",
    "    )\n",
    "    .linreg(\n",
    "        'sa.pheno.t2d_bool', \n",
    "        covariates=['sa.pca.PC1', 'sa.pca.PC2', 'sa.pca.PC3', 'sa.pheno.female_bool', 'sa.pheno.last_exam_age']\n",
    "     )\n",
    ")\n"
   ]
  },
  {
   "cell_type": "code",
   "execution_count": 26,
   "metadata": {},
   "outputs": [],
   "source": [
    "# This is directly taken from the Hail tutorial (https://hail.is/)\n",
    "def qqplot(pvals, xMax, yMax):\n",
    "    spvals = sorted(filter(lambda x: x and not(isnan(x)), pvals))\n",
    "    exp = [-log(float(i) / len(spvals), 10) for i in np.arange(1, len(spvals) + 1, 1)]\n",
    "    obs = [-log(p, 10) for p in spvals]\n",
    "    plt.clf()\n",
    "    plt.scatter(exp, obs)\n",
    "    plt.plot(np.arange(0, max(xMax+1, yMax+1)), c=\"red\")\n",
    "    plt.xlabel(\"Expected p-value (-log10 scale)\")\n",
    "    plt.ylabel(\"Observed p-value (-log10 scale)\")\n",
    "    plt.xlim(0, xMax)\n",
    "    plt.ylim(0, yMax)\n",
    "    plt.show()"
   ]
  },
  {
   "cell_type": "code",
   "execution_count": 27,
   "metadata": {},
   "outputs": [
    {
     "data": {
      "image/png": "[encoded data removed]",
      "text/plain": [
       "<matplotlib.figure.Figure at 0x7f6751267690>"
      ]
     },
     "metadata": {},
     "output_type": "display_data"
    }
   ],
   "source": [
    "qqplot(vds_common.query_variants('variants.map(v => va.linreg.pval).collect()'), 4, 4)"
   ]
  },
  {
   "cell_type": "markdown",
   "metadata": {},
   "source": [
    "### Finally, we'll save the results and push them back to the data model so they can be accessed through the Firecloud UI."
   ]
  },
  {
   "cell_type": "code",
   "execution_count": 41,
   "metadata": {},
   "outputs": [
    {
     "name": "stderr",
     "output_type": "stream",
     "text": [
      "2018-05-23 14:36:43 Hail: INFO: while writing:\n",
      "    ./2018-05-23-Notebooks-Demo-Manning-Lab.association.results.tsv\n",
      "  merge time: 365.381ms\n"
     ]
    }
   ],
   "source": [
    "# export the association results as a tsv\n",
    "date = ! date +%Y-%m-%d\n",
    "bucket = 'gs://'+fiss.fapi.get_workspace(\"broad-firecloud-dsde\", \"Notebooks-Demo-Manning-Lab\").json()['workspace']['bucketName']+'/demo-output/'\n",
    "result_file = bucket+date[0]+'-Notebooks-Demo-Manning-Lab.association.results.tsv'\n",
    "(\n",
    "    vds_common\n",
    "    .export_variants(result_file,\n",
    "       'chr = v.locus.contig, pos = v.locus.position, ref = v.ref, alt = v.alt(), beta = va.linreg.beta, se = va.linreg.se, tstat = va.linreg.tstat, pval = va.linreg.pval')\n",
    ")"
   ]
  },
  {
   "cell_type": "code",
   "execution_count": 38,
   "metadata": {},
   "outputs": [
    {
     "name": "stdout",
     "output_type": "stream",
     "text": [
      "[NbConvertApp] Converting notebook Notebooks-Demo-Manning-Lab.ipynb to html\n",
      "[NbConvertApp] Writing 299208 bytes to Notebooks-Demo-Manning-Lab.html\n"
     ]
    }
   ],
   "source": [
    "# save the notebook and an HTML rendering\n",
    "%notebook Notebooks-Demo-Manning-Lab.ipynb\n",
    "! jupyter nbconvert --to html Notebooks-Demo-Manning-Lab.ipynb"
   ]
  },
  {
   "cell_type": "code",
   "execution_count": 33,
   "metadata": {},
   "outputs": [
    {
     "name": "stdout",
     "output_type": "stream",
     "text": [
      "Copying file://Notebooks-Demo-Manning-Lab-final.ipynb [Content-Type=application/octet-stream]...\n",
      "- [1 files][ 13.4 KiB/ 13.4 KiB]                                                \n",
      "Operation completed over 1 objects/13.4 KiB.                                     \n",
      "Copying file://Notebooks-Demo-Manning-Lab-final.html [Content-Type=text/html]...\n",
      "/ [1 files][285.4 KiB/285.4 KiB]                                                \n",
      "Operation completed over 1 objects/285.4 KiB.                                    \n",
      "CommandException: No URLs matched: 2018-05-23-Notebooks-Demo-Manning-Lab.association.results.tsv\n"
     ]
    }
   ],
   "source": [
    "# move the results, notebook, and html over to the workspace bucket\n",
    "notebook_file = bucket+date[0]+'-Notebooks-Demo-Manning-Lab.ipynb'\n",
    "html_file = bucket+date[0]+'-Notebooks-Demo-Manning-Lab.html'\n",
    "! gsutil cp Notebooks-Demo-Manning-Lab-final.ipynb {notebook_file}\n",
    "! gsutil cp Notebooks-Demo-Manning-Lab-final.html {html_file}\n",
    "\n"
   ]
  },
  {
   "cell_type": "code",
   "execution_count": 34,
   "metadata": {},
   "outputs": [
    {
     "data": {
      "text/plain": [
       "<Response [200]>"
      ]
     },
     "execution_count": 34,
     "metadata": {},
     "output_type": "execute_result"
    }
   ],
   "source": [
    "# update the data model to include the results\n",
    "cols = ['entity:sample_id',\n",
    "    'participant',\n",
    "    'phenotypes',\n",
    "    'notebook',\n",
    "    'html',\n",
    "    'results']\n",
    "\n",
    "\n",
    "vals = [date[0]+'-Notebooks-Demo-Manning-Lab',\n",
    "            '1kg_GRCh38_genotypes_20170504',\n",
    "            'gs://fc-fce06143-8e4d-4460-8475-a61ddea26b4b/1kg_phenotypes/1kg_GRCh38_genotypes_20170504_demo_phenotypes.csv',\n",
    "            notebook_file,\n",
    "            html_file,\n",
    "            result_file\n",
    "       ]\n",
    "\n",
    "entity = '\\n'.join(['\\t'.join(cols),'\\t'.join(vals)])\n",
    "fiss.fapi.upload_entities('broad-firecloud-dsde','Notebooks-Demo-Manning-Lab',entity)"
   ]
  },
  {
   "cell_type": "code",
   "execution_count": null,
   "metadata": {},
   "outputs": [],
   "source": []
  }
 ],
 "metadata": {
  "kernelspec": {
   "display_name": "Python 2",
   "language": "python",
   "name": "python2"
  },
  "language_info": {
   "codemirror_mode": {
    "name": "ipython",
    "version": 2
   },
   "file_extension": ".py",
   "mimetype": "text/x-python",
   "name": "python",
   "nbconvert_exporter": "python",
   "pygments_lexer": "ipython2",
   "version": "2.7.14"
  }
 },
 "nbformat": 4,
 "nbformat_minor": 2
}
