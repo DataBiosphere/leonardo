{
 "cells": [
  {
   "cell_type": "markdown",
   "metadata": {},
   "source": [
    "# Leonardemo (demonardo?)"
   ]
  },
  {
   "cell_type": "markdown",
   "metadata": {},
   "source": [
    "### Hey, look at this notebook running Python!"
   ]
  },
  {
   "cell_type": "code",
   "execution_count": null,
   "metadata": {},
   "outputs": [],
   "source": [
    "print \"Hello, Jupyter!\"\n",
    "print 1+1\n",
    "print \" \".join(map( str.upper, [\"i\", \"said\", \"hello,\", \"jupyter\"]))"
   ]
  },
  {
   "cell_type": "markdown",
   "metadata": {},
   "source": [
    "### Connecting to FireCloud"
   ]
  },
  {
   "cell_type": "markdown",
   "metadata": {},
   "source": [
    "Let's import the FireCloud Python API. Shout out to the folks in CGA who maintain it!"
   ]
  },
  {
   "cell_type": "code",
   "execution_count": null,
   "metadata": {},
   "outputs": [],
   "source": [
    "import firecloud.api as fc"
   ]
  },
  {
   "cell_type": "markdown",
   "metadata": {},
   "source": [
    "Is FC even up? This will be a short demo if it isn't:"
   ]
  },
  {
   "cell_type": "code",
   "execution_count": null,
   "metadata": {},
   "outputs": [],
   "source": [
    "health = fc.health()\n",
    "print health.status_code, health.text"
   ]
  },
  {
   "cell_type": "markdown",
   "metadata": {},
   "source": [
    "Let's list the names and namespaces of the first ten workspaces we can see:"
   ]
  },
  {
   "cell_type": "code",
   "execution_count": null,
   "metadata": {},
   "outputs": [],
   "source": [
    "workspaces = fc.list_workspaces().json()\n",
    "map( lambda ws: ws[\"workspace\"][\"name\"] + \"/\" + ws[\"workspace\"][\"namespace\"], workspaces)[:10]"
   ]
  },
  {
   "cell_type": "markdown",
   "metadata": {},
   "source": [
    "Yank our demo workspace:"
   ]
  },
  {
   "cell_type": "code",
   "execution_count": null,
   "metadata": {},
   "outputs": [],
   "source": [
    "demo_ws = fc.get_workspace(\"broad-dsde-firecloud-billing\", \"Notebooks-Demo\").json()\n",
    "print demo_ws[\"workspace\"][\"attributes\"][\"description\"]"
   ]
  },
  {
   "cell_type": "markdown",
   "metadata": {},
   "source": [
    "### Manipulating workspace data"
   ]
  },
  {
   "cell_type": "code",
   "execution_count": null,
   "metadata": {},
   "outputs": [],
   "source": [
    "fc.list_entity_types(\"broad-dsde-firecloud-billing\", \"Notebooks-Demo\").json().keys()"
   ]
  },
  {
   "cell_type": "markdown",
   "metadata": {},
   "source": [
    "Get the list of participants and all their attributes from the workspace."
   ]
  },
  {
   "cell_type": "code",
   "execution_count": null,
   "metadata": {},
   "outputs": [],
   "source": [
    "participants = fc.get_entities(\"broad-dsde-firecloud-billing\", \"Notebooks-Demo\", \"participant\").json()\n",
    "print len(participants), \"participants in this workspace\"\n",
    "participants"
   ]
  },
  {
   "cell_type": "markdown",
   "metadata": {},
   "source": [
    "Time to get graphy. First, import pandas, and turn the returned JSON into a pandas DataFrame."
   ]
  },
  {
   "cell_type": "code",
   "execution_count": null,
   "metadata": {},
   "outputs": [],
   "source": [
    "import pandas as pd\n",
    "import numpy as np\n",
    "%matplotlib inline\n",
    "import matplotlib.pyplot as plt"
   ]
  },
  {
   "cell_type": "code",
   "execution_count": null,
   "metadata": {},
   "outputs": [],
   "source": [
    "def entity_to_row(entity):\n",
    "    attrs = { \"name\": entity[\"name\"]}\n",
    "    attrs.update(entity[\"attributes\"])\n",
    "    attrs[\"age\"] = int(attrs[\"age\"])\n",
    "    return attrs\n",
    "\n",
    "cleaned_ents = map( entity_to_row, participants )\n",
    "\n",
    "parts_df = pd.DataFrame.from_dict(cleaned_ents).set_index(\"name\")\n",
    "parts_df.head(10)"
   ]
  },
  {
   "cell_type": "markdown",
   "metadata": {},
   "source": [
    "What does our distribution of participant ages look like?"
   ]
  },
  {
   "cell_type": "code",
   "execution_count": null,
   "metadata": {},
   "outputs": [],
   "source": [
    "parts_df.hist(column='age')"
   ]
  },
  {
   "cell_type": "markdown",
   "metadata": {},
   "source": [
    "### Doing things with VCFs"
   ]
  },
  {
   "cell_type": "markdown",
   "metadata": {},
   "source": [
    "Grab a gs:// path to a VCF from the participant set in the workspace"
   ]
  },
  {
   "cell_type": "code",
   "execution_count": null,
   "metadata": {},
   "outputs": [],
   "source": [
    "pset = fc.get_entity(\"broad-dsde-firecloud-billing\", \"Notebooks-Demo\", \"participant_set\", \"T2D_Cohort\").json()\n",
    "pset[\"attributes\"][\"snps_indels_svs_vcf\"]"
   ]
  },
  {
   "cell_type": "markdown",
   "metadata": {},
   "source": [
    "Use the Google Cloud python library to download it to disk"
   ]
  },
  {
   "cell_type": "code",
   "execution_count": null,
   "metadata": {},
   "outputs": [],
   "source": [
    "from google.cloud import storage\n",
    "client = storage.Client()\n",
    "bucket = client.get_bucket('fc-4236f90d-9fdc-4772-a3b8-f218d000b002')\n",
    "blob = bucket.get_blob('participants_small.vcf')\n",
    "blob.download_to_filename(\"participants_small.vcf\")"
   ]
  },
  {
   "cell_type": "markdown",
   "metadata": {},
   "source": [
    "You can call out to bash from notebooks. Here we grep to get the sample names."
   ]
  },
  {
   "cell_type": "code",
   "execution_count": null,
   "metadata": {},
   "outputs": [],
   "source": [
    "! grep -m1 \"#CHROM\" participants_small.vcf | cut -f 10- | xargs -n 1"
   ]
  },
  {
   "cell_type": "markdown",
   "metadata": {},
   "source": [
    "### HAIL support"
   ]
  },
  {
   "cell_type": "code",
   "execution_count": null,
   "metadata": {},
   "outputs": [],
   "source": [
    "from hail import *\n",
    "hc = HailContext(sc)\n",
    "\n",
    "bucket = 'gs://fc-4236f90d-9fdc-4772-a3b8-f218d000b002'\n",
    "\n",
    "vcf = hc.import_vcf(bucket + '/participants_small.vcf')\n",
    "vcf.write(bucket + '/participants_small.vds')"
   ]
  },
  {
   "cell_type": "code",
   "execution_count": null,
   "metadata": {},
   "outputs": [],
   "source": [
    "vds = hc.read(bucket + '/participants_small.vds').split_multi().sample_qc().variant_qc()\n",
    "vds.export_variants(bucket + '/variantqc.tsv', 'Variant = v, va.qc.*')\n",
    "vds.write(bucket + '/participants_small.qc.vds')"
   ]
  },
  {
   "cell_type": "code",
   "execution_count": null,
   "metadata": {},
   "outputs": [],
   "source": [
    "print 'count:'\n",
    "print vds.count()\n",
    "print 'summary report:'\n",
    "print vds.summarize().report()\n",
    "print 'sample annotation schema:'\n",
    "print vds.sample_schema\n",
    "print '\\nvariant annotation schema:'\n",
    "print vds.variant_schema"
   ]
  }
 ],
 "metadata": {
  "kernelspec": {
   "display_name": "Python 2",
   "language": "python",
   "name": "python2"
  },
  "language_info": {
   "codemirror_mode": {
    "name": "ipython",
    "version": 2
   },
   "file_extension": ".py",
   "mimetype": "text/x-python",
   "name": "python",
   "nbconvert_exporter": "python",
   "pygments_lexer": "ipython2",
   "version": "2.7.9"
  }
 },
 "nbformat": 4,
 "nbformat_minor": 2
}
