{
 "cells": [
  {
   "cell_type": "code",
   "execution_count": null,
   "id": "8df1415c-ace0-4839-9bd2-0145e5759515",
   "metadata": {},
   "outputs": [],
   "source": [
    "print(\"Hello Terra\")"
   ]
  },
  {
   "cell_type": "markdown",
   "id": "a16afd52-adad-49de-8224-37dd625822f9",
   "metadata": {},
   "source": [
    "### Log in as assigned UAMI"
   ]
  },
  {
   "cell_type": "markdown",
   "id": "6f995fcf-63d2-46a7-875f-bf76a9f62e52",
   "metadata": {},
   "source": [
    "### Get the JWT"
   ]
  },
  {
   "cell_type": "code",
   "execution_count": null,
   "id": "35e378a5-b1bf-4067-b8a4-2d66755e946f",
   "metadata": {},
   "outputs": [],
   "source": [
    "%%bash --out cli\n",
    "az account get-access-token"
   ]
  },
  {
   "cell_type": "code",
   "execution_count": null,
   "id": "3a632bde-8f86-48f5-b35c-b958f5b51d83",
   "metadata": {},
   "outputs": [],
   "source": [
    "import json\n",
    "accessToken = json.loads(cli)['accessToken']\n",
    "accessToken"
   ]
  },
  {
   "cell_type": "markdown",
   "id": "70e45af6-923e-4974-ae79-df885373612d",
   "metadata": {},
   "source": [
    "### Call Sam userInfo"
   ]
  },
  {
   "cell_type": "code",
   "execution_count": null,
   "id": "c825196f-7b4d-4048-9b20-da19387f4a66",
   "metadata": {},
   "outputs": [],
   "source": [
    "import requests\n",
    "endpoint = 'https://sam.fiab-rtitle-smooth-wren.bee.envs-terra.bio/register/user/v2/self/info'\n",
    "headers = {\n",
    "    \"Authorization\": f\"Bearer {accessToken}\",\n",
    "    \"Accept\": \"application/json\"\n",
    "}\n",
    "res = requests.get(endpoint, headers=headers)\n",
    "print(res.json())"
   ]
  },
  {
   "cell_type": "markdown",
   "id": "43aa1c2c-b03e-4c70-b0a0-422457e877e2",
   "metadata": {},
   "source": [
    "### Call WSM getSasToken"
   ]
  },
  {
   "cell_type": "code",
   "execution_count": null,
   "id": "801cbf90-d631-4b63-93bd-2aa2e7e833cf",
   "metadata": {},
   "outputs": [],
   "source": [
    "WSM_BASE_URL = 'https://workspace.fiab-rtitle-smooth-wren.bee.envs-terra.bio/api/workspaces/v1'\n",
    "WSM_BASE_HEADERS = {\"Authorization\": f\"Bearer {accessToken}\", \"Accept\": \"application/json\"}\n",
    "\n",
    "# TODO: it's hard to navigate WSM APIs to get workspace id, storage account/container name/id, signed url\n",
    "# Can we pass some information to the notebook as EVs?\n",
    "\n",
    "# Get WSM workspace id\n",
    "wsm_workspace_list = requests.get(f'{WSM_BASE_URL}', headers=WSM_BASE_HEADERS).json()\n",
    "wsm_workspace_id = next(filter(lambda x: x['displayName'] == 'Rob Azure Demo 5', wsm_workspace_list['workspaces']))['id']\n",
    "print(f\"wsm workspace id: {wsm_workspace_id}\")\n",
    "\n",
    "# List storage accounts in the workspace\n",
    "wsm_storage_account_list = requests.get(f'{WSM_BASE_URL}/{wsm_workspace_id}/resources', headers=WSM_BASE_HEADERS).json()\n",
    "wsm_storage_account_name = next(filter(lambda x: x['metadata']['resourceType'] == 'AZURE_STORAGE_ACCOUNT', wsm_storage_account_list['resources']))['metadata']['name']\n",
    "print(f\"wsm storage account name: {wsm_storage_account_name}\")\n",
    "\n",
    "# List storage containers in the workspace\n",
    "wsm_storage_container_list = requests.get(f'{WSM_BASE_URL}/{wsm_workspace_id}/resources', headers=WSM_BASE_HEADERS).json()\n",
    "wsm_storage_container_id = next(filter(lambda x: x['metadata']['resourceType'] == 'AZURE_STORAGE_CONTAINER', wsm_storage_container_list['resources']))['metadata']['resourceId']\n",
    "print(f\"wsm storage container id: {wsm_storage_container_id}\")\n",
    "\n",
    "# Get SAS token from WSM\n",
    "wsm_sas_token_response = requests.post(f\"{WSM_BASE_URL}/{wsm_workspace_id}/resources/controlled/azure/storageContainer/{wsm_storage_container_id}/getSasToken\", headers=WSM_BASE_HEADERS).json()\n",
    "sas_token = wsm_sas_token_response.get('token')\n",
    "\n",
    "# Build signed url\n",
    "signed_url_base = f\"https://sa5f2f225a50952a945dcf.blob.core.windows.net/{wsm_storage_account_name.replace('sa', 'sc')}\"\n",
    "signed_url = f\"{signed_url_base}?{sas_token}\"\n",
    "print(f\"signed url base is {signed_url_base}\")\n",
    "print(f\"sas token is {sas_token}\")"
   ]
  },
  {
   "cell_type": "markdown",
   "id": "a978290c-eb67-4f51-890b-26fcead0438a",
   "metadata": {},
   "source": [
    "### Read/write data from SAS token"
   ]
  },
  {
   "cell_type": "code",
   "execution_count": null,
   "id": "1ff262e4-ea82-4cdb-b27d-ec966e285e2a",
   "metadata": {},
   "outputs": [],
   "source": [
    "# copy this notebook file to the storage container\n",
    "blob_url = f\"{signed_url_base}/Demo.ipynb?{sas_token}\"\n",
    "! azcopy copy 'Demo.ipynb' '{blob_url}'"
   ]
  },
  {
   "cell_type": "code",
   "execution_count": null,
   "id": "15921f70-630e-4bc8-b5c3-fbfbe888478c",
   "metadata": {},
   "outputs": [],
   "source": [
    "# copy it back\n",
    "import time\n",
    "new_filename = 'Demo.ipynb.' + time.strftime(\"%Y%m%d-%H%M%S\")\n",
    "! azcopy copy '{blob_url}' '{new_filename}'"
   ]
  },
  {
   "cell_type": "code",
   "execution_count": null,
   "id": "446333de-5ea1-4fe3-9999-87f0b174d48b",
   "metadata": {},
   "outputs": [],
   "source": [
    "!ls -la Demo.ipynb*"
   ]
  },
  {
   "cell_type": "code",
   "execution_count": null,
   "id": "bbab38d4-7889-4e12-83d1-96129aca4a7d",
   "metadata": {},
   "outputs": [],
   "source": []
  },
  {
   "cell_type": "code",
   "execution_count": null,
   "id": "0cddc4c5-7604-4ae4-a7c9-1c95aa3bf6d2",
   "metadata": {},
   "outputs": [],
   "source": []
  }
 ],
 "metadata": {
  "kernelspec": {
   "display_name": "Python [conda env:py38_default]",
   "language": "python",
   "name": "conda-env-py38_default-py"
  },
  "language_info": {
   "codemirror_mode": {
    "name": "ipython",
    "version": 3
   },
   "file_extension": ".py",
   "mimetype": "text/x-python",
   "name": "python",
   "nbconvert_exporter": "python",
   "pygments_lexer": "ipython3",
   "version": "3.8.13"
  }
 },
 "nbformat": 4,
 "nbformat_minor": 5
}
