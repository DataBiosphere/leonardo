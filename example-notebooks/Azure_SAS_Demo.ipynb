{
 "cells": [
  {
   "cell_type": "code",
   "execution_count": null,
   "id": "8ed93fa5-2796-4363-9790-4b403fde76b7",
   "metadata": {},
   "outputs": [],
   "source": [
    "print(\"Hello Terra!\")"
   ]
  },
  {
   "cell_type": "markdown",
   "id": "755765b1-3db3-411c-909f-cdd3ed5f9235",
   "metadata": {},
   "source": [
    "## Login as Pet Managed Identity"
   ]
  },
  {
   "cell_type": "code",
   "execution_count": null,
   "id": "6a1f36c1-0fc4-43ef-8b22-222a5d57a853",
   "metadata": {},
   "outputs": [],
   "source": [
    "%%bash --out cli_token\n",
    "az login --identity --allow-no-subscriptions\n",
    "az account get-access-token"
   ]
  },
  {
   "cell_type": "markdown",
   "id": "18e87411-8a74-497d-a6d0-f731e3ac7b11",
   "metadata": {},
   "source": [
    "## Define some helper functions for interacting with Terra APIs\n",
    "#### Note(RT): this code is illustrative; we plan to bake this functionality into client libraries"
   ]
  },
  {
   "cell_type": "code",
   "execution_count": null,
   "id": "c88afbbb-7c09-44e7-b915-5fe4f7ae3a59",
   "metadata": {},
   "outputs": [],
   "source": [
    "import json\n",
    "import requests\n",
    "DOMAIN = 'fiab-rtitle-kind-fawn.bee.envs-terra.bio'\n",
    "SAM_BASE_URL = f'https://sam.{DOMAIN}'\n",
    "WSM_BASE_URL = f'https://workspace.{DOMAIN}/api/workspaces/v1'\n",
    "HEADERS = {\n",
    "    \"Authorization\": f\"Bearer {json.loads(cli)['accessToken']}\",\n",
    "    \"Accept\": \"application/json\"\n",
    "}\n",
    "\n",
    "def get_sam_user():\n",
    "    return requests.get(f'{SAM_BASE_URL}/register/user/v2/self/info', headers=HEADERS).json()['userEmail']\n",
    "\n",
    "def get_workspace_sas_url():\n",
    "    # Get WSM workspace id\n",
    "    # Assume its the first workspace returned from WSM but we should probably have a better way.\n",
    "    wsm_workspace_list = requests.get(WSM_BASE_URL, headers=HEADERS).json()\n",
    "    wsm_workspace_id = wsm_workspace_list['workspaces'][0]['id']\n",
    "    \n",
    "    # List storage accounts in the workspace\n",
    "    wsm_storage_account_list = requests.get(f'{WSM_BASE_URL}/{wsm_workspace_id}/resources', headers=HEADERS).json()\n",
    "    wsm_storage_account_name = next(filter(lambda x: x['metadata']['resourceType'] == 'AZURE_STORAGE_ACCOUNT', wsm_storage_account_list['resources']))['metadata']['name']\n",
    "    \n",
    "    # List storage containers in the workspace\n",
    "    wsm_storage_container_list = requests.get(f'{WSM_BASE_URL}/{wsm_workspace_id}/resources', headers=HEADERS).json()\n",
    "    wsm_storage_container_id = next(filter(lambda x: x['metadata']['resourceType'] == 'AZURE_STORAGE_CONTAINER', wsm_storage_container_list['resources']))['metadata']['resourceId']\n",
    "    \n",
    "    # Get SAS URL from WSM\n",
    "    wsm_sas_token_response = requests.post(f\"{WSM_BASE_URL}/{wsm_workspace_id}/resources/controlled/azure/storageContainer/{wsm_storage_container_id}/getSasToken\", headers=HEADERS).json()\n",
    "    return wsm_sas_token_response['url']"
   ]
  },
  {
   "cell_type": "markdown",
   "id": "be6c6628-b25c-4981-a7a4-a5b8f4ae9cf6",
   "metadata": {},
   "source": [
    "## Print the authenticated Terra User"
   ]
  },
  {
   "cell_type": "code",
   "execution_count": null,
   "id": "fea98d52-e9c5-49db-977b-8ae62dcbb364",
   "metadata": {},
   "outputs": [],
   "source": [
    "print(get_sam_user())"
   ]
  },
  {
   "cell_type": "markdown",
   "id": "629c419a-3e5d-4801-95dc-66f69996db37",
   "metadata": {},
   "source": [
    "## Retrieve a SAS URL for the workspace-controlled storage container"
   ]
  },
  {
   "cell_type": "code",
   "execution_count": null,
   "id": "8e11189f-d99b-4356-8987-599bd346c898",
   "metadata": {},
   "outputs": [],
   "source": [
    "sas_url = get_workspace_sas_url()\n",
    "print(sas_url)"
   ]
  },
  {
   "cell_type": "markdown",
   "id": "404dfb01-5eb3-4651-9ad3-6ec13ffbc118",
   "metadata": {},
   "source": [
    "## Read/write data using SAS URL"
   ]
  },
  {
   "cell_type": "code",
   "execution_count": null,
   "id": "59e36eec-2db8-405c-aa7f-65cf3b6d2b1b",
   "metadata": {},
   "outputs": [],
   "source": [
    "# copy this notebook file to the storage container\n",
    "from urllib.parse import urlparse, urlunparse\n",
    "path = urlparse(sas_url)\n",
    "desired_path = path.path + '/Azure_SAS_Demo.ipynb'\n",
    "blob_url = urlunparse(path._replace(path=desired_path))\n",
    "! azcopy copy 'Azure_SAS_Demo.ipynb' '{blob_url}'"
   ]
  },
  {
   "cell_type": "code",
   "execution_count": null,
   "id": "d58ea6d2-0154-4628-aaec-c89a7fe17b84",
   "metadata": {},
   "outputs": [],
   "source": [
    "# copy it back\n",
    "import time\n",
    "new_filename = 'Azure_SAS_Demo.ipynb.' + time.strftime(\"%Y%m%d-%H%M%S\")\n",
    "! azcopy copy '{blob_url}' '{new_filename}'"
   ]
  },
  {
   "cell_type": "code",
   "execution_count": null,
   "id": "3c85bf78-3b51-4034-890a-26d7917c1ab4",
   "metadata": {},
   "outputs": [],
   "source": [
    "!ls -la Azure_SAS_Demo.ipynb*"
   ]
  },
  {
   "cell_type": "code",
   "execution_count": null,
   "id": "499559cc-fd62-459f-957b-ec7d10cb5dcf",
   "metadata": {},
   "outputs": [],
   "source": []
  }
 ],
 "metadata": {
  "kernelspec": {
   "display_name": "Python [conda env:py38_default]",
   "language": "python",
   "name": "conda-env-py38_default-py"
  },
  "language_info": {
   "codemirror_mode": {
    "name": "ipython",
    "version": 3
   },
   "file_extension": ".py",
   "mimetype": "text/x-python",
   "name": "python",
   "nbconvert_exporter": "python",
   "pygments_lexer": "ipython3",
   "version": "3.8.13"
  }
 },
 "nbformat": 4,
 "nbformat_minor": 5
}
